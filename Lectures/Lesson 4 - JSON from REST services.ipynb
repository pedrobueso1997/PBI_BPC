{
 "cells": [
  {
   "cell_type": "markdown",
   "metadata": {},
   "source": [
    "# More reliable ways of accessing data\n",
    "\n",
    "## Representational State Transfer - [REST](https://doi.org/10.1145/514183.514185)\n",
    "\n",
    "REST is a design philosophy for client/server-style software.  It says:\n",
    "\n",
    "1. Every \"Thing\" should be designated by ONE globally unique identifier/address\n",
    "2. Every \"Thing\" exists in a particular \"state\"\n",
    "    * e.g. if a=2, then the state of \"a\" is \"2\"\n",
    "3. There are a limited number of uniform (i.e. globally accepted) functions a client may use to request/query/modify the state of the Thing\n",
    "    * this means that you are not allowed to invent your own API!!!\n",
    "4. The software is \"stateless\" - after performing an operation on a Thing, the client forgets everything it knows, and the Thing also forgets that it was visited by the client.  The system \"has no memory\"\n",
    "    * this means, NO COOKIES!\n",
    "5. Because the system is stateless (has no memory), the current state of the \"Thing\", and all operations on a \"Thing\" that are valid at a given moment, must be reported by the \"Thing's\" server, to the client, using \"Hypertext\" (a way to describe the current \"state\", and possible actions, in a machine-readable way)\n",
    "6. the client then selects one of those valid operations and executes it, using one of the limited number of uniform fuctions (see [3] above).\n",
    "7. finally, the client is able to retrieve the \"Thing\" in one or more \"representations\" (e.g. retrieve the AB13345 record in GenBank or XML or EMBL or PDF format) using the same identifier in every case, and one of the functions in [3] above.\n",
    "<pre>\n",
    "\n",
    "\n",
    "</pre>\n",
    "\n"
   ]
  },
  {
   "cell_type": "markdown",
   "metadata": {},
   "source": [
    "# REST on the Web\n",
    "\n",
    "The most common way to implement REST on the Web is to use the Hypertext Transfer Protocol ([HTTP](https://en.wikipedia.org/wiki/Hypertext_Transfer_Protocol)) and Uniform Resource Identifiers ([URIs](https://en.wikipedia.org/wiki/Uniform_Resource_Identifier)).\n",
    "\n",
    "\n",
    "# HTTP\n",
    "\n",
    "At the core of HTTP are 5 \"methods\" (there are other additional methods, but they are not very consistently implemented):\n",
    "\n",
    "* GET - retrieve\n",
    "* PUT - create/replace\n",
    "* POST - process/update\n",
    "* HEAD  - request metadata\n",
    "* DELETE - remove\n",
    "\n",
    "\n",
    "# REST using HTTP\n",
    "\n",
    "* GET URL - retrieve the current state of URL\n",
    "* PUT URL [data] - create/replace the current state of URL with [data]\n",
    "* POST URL [data] - process [data] in manner defined by URL hypertext; update state of URL with that result\n",
    "* HEAD URL  - request metadata about current state of URL\n",
    "* DELETE URL - set state of URL to be NULL\n",
    "\n",
    "Many of this operations (put, delete) are protected because they are very destructive.\n",
    "\n",
    "# Requesting a specific Representation in REST+HTTP\n",
    "\n",
    "In REST, everything is represented by a single, globally-unique URI (URL).  How, then, can we get the XML version, or the HTML version, or the PDF version?  On the Web, this is achieved through [Content-negotiation](https://en.wikipedia.org/wiki/Content_negotiation).  The client can, for example through a HEAD request, ask the server what representations are available for a Resource.  The client responds with a set of [Media types](https://en.wikipedia.org/wiki/Media_type)\n",
    "it can provide, using their [MIME-type abbreviation](https://www.iana.org/assignments/media-types/media-types.xhtml).\n",
    "\n",
    "    e.g.  application/pdf, image/png\n",
    "    \n",
    "In this way, the client can say \"please give me the current state of URL_XXX in the format 'image/png'\"\n",
    "\n",
    "It is important to note that the thing exists with independence of its representation (when you ask for the thing, you get the thing and its representation)\n",
    "\n",
    "For this course, you don't neeed to understand REST any more deeply than that!\n",
    "\n"
   ]
  },
  {
   "cell_type": "markdown",
   "metadata": {},
   "source": [
    "## Try using curl to communicate with server webs\n",
    "\n",
    "curl -v -X GET -H \"Accept: text/turtle\" http://35.195.87.217/DAV/home/LDP/test\n",
    "\n",
    "curl -v -X POST -u gofair:gofair -H \"Content-type: text/turtle\" -H \"Accept: text/turtle\" -H \"Slug: this is Pedro's file\" --data-binary @resource.ttl http://35.195.87.217/DAV/home/LDP/test\n",
    "\n",
    "curl -v -X DELETE -u gofair:gofair -H \"Accept: text/turtle\" http://35.195.87.217/DAV/home/LDP/test/tis_is_Pedro's_file\n",
    "\n"
   ]
  },
  {
   "cell_type": "markdown",
   "metadata": {},
   "source": [
    "\n",
    "# REST interfaces in Bioinformatics\n",
    "\n",
    "First, there are hardly any interfaces in Bioinformatics that follow the rules above.  Even the ones that claim to be REST, almost never are!  **This is not a bad thing**!  REST is actually pretty hard, and most interfaces that claim to be REST are actually quite useful!!  The bad thing is that bioinformatics websites CLAIM to be REST only __because it is cool__, but without understanding how hard it really is.  Since they don't understand, they try to make REST simple, and they break the rules to achieve this... so they are not REST anymore :-)\n",
    "\n",
    "We are going to use one of these **almost** REST interfaces in this lecture.  The interface we will use is called [TOGO](http://togows.dbcls.jp)\n",
    "\n",
    "We will go to that website now to explore the interface together, then we will create some Ruby code that accesses the TOGO \"REST\" interface to retrieve data."
   ]
  },
  {
   "cell_type": "code",
   "execution_count": 1,
   "metadata": {},
   "outputs": [
    {
     "name": "stdout",
     "output_type": "stream",
     "text": [
      "[{\"EMBL\"=>[[\"M86357\", \"AAA32740.1\", \"-\", \"mRNA\"], [\"D21125\", \"BAA04665.1\", \"-\", \"Genomic_DNA\"], [\"AF115798\", \"AAD51887.1\", \"-\", \"Genomic_DNA\"], [\"AF115799\", \"AAD51888.1\", \"-\", \"Genomic_DNA\"], [\"AF115800\", \"AAD51889.1\", \"-\", \"Genomic_DNA\"], [\"AF115801\", \"AAD51890.1\", \"-\", \"Genomic_DNA\"], [\"AF115802\", \"AAD51891.1\", \"-\", \"Genomic_DNA\"], [\"AF115803\", \"AAD51892.1\", \"-\", \"Genomic_DNA\"], [\"AF115804\", \"AAD51893.1\", \"-\", \"Genomic_DNA\"], [\"AF115805\", \"AAD51894.1\", \"-\", \"Genomic_DNA\"], [\"AF115806\", \"AAD51895.1\", \"-\", \"Genomic_DNA\"], [\"AF115807\", \"AAD51896.1\", \"-\", \"Genomic_DNA\"], [\"AF115808\", \"AAD51897.1\", \"-\", \"Genomic_DNA\"], [\"AF115809\", \"AAD51898.1\", \"-\", \"Genomic_DNA\"], [\"AF115810\", \"AAD51899.1\", \"-\", \"Genomic_DNA\"], [\"AF115811\", \"AAD51900.1\", \"-\", \"Genomic_DNA\"], [\"AF115812\", \"AAD51901.1\", \"-\", \"Genomic_DNA\"], [\"AF115813\", \"AAD51902.1\", \"-\", \"Genomic_DNA\"], [\"AF115814\", \"AAD51903.1\", \"-\", \"Genomic_DNA\"], [\"AL132971\", \"CAB81799.1\", \"-\", \"Genomic_DNA\"], [\"CP002686\", \"AEE79216.1\", \"-\", \"Genomic_DNA\"], [\"AY070397\", \"AAL49893.1\", \"-\", \"mRNA\"], [\"AY142590\", \"AAN13159.1\", \"-\", \"mRNA\"], [\"AY087369\", \"AAM64919.1\", \"-\", \"mRNA\"], [\"AF056541\", \"AAD41557.1\", \"-\", \"Genomic_DNA\"]], \"PIR\"=>[[\"A42095\", \"A42095\"]], \"RefSeq\"=>[[\"NP_191002.1\", \"NM_115294.6\"]], \"SMR\"=>[[\"P35632\", \"-\"]], \"BioGrid\"=>[[\"9917\", \"13\"]], \"IntAct\"=>[[\"P35632\", \"5\"]], \"STRING\"=>[[\"3702.AT3G54340.1\", \"-\"]], \"PaxDb\"=>[[\"P35632\", \"-\"]], \"EnsemblPlants\"=>[[\"AT3G54340.1\", \"AT3G54340.1\", \"AT3G54340\"]], \"GeneID\"=>[[\"824601\", \"-\"]], \"Gramene\"=>[[\"AT3G54340.1\", \"AT3G54340.1\", \"AT3G54340\"]], \"KEGG\"=>[[\"ath:AT3G54340\", \"-\"]], \"Araport\"=>[[\"AT3G54340\", \"-\"]], \"TAIR\"=>[[\"locus:2096164\", \"AT3G54340\"]], \"eggNOG\"=>[[\"KOG0014\", \"Eukaryota\"], [\"COG5068\", \"LUCA\"]], \"InParanoid\"=>[[\"P35632\", \"-\"]], \"KO\"=>[[\"K09264\", \"-\"]], \"OMA\"=>[[\"HRKYHVI\", \"-\"]], \"OrthoDB\"=>[[\"1142137at2759\", \"-\"]], \"PhylomeDB\"=>[[\"P35632\", \"-\"]], \"PRO\"=>[[\"PR:P35632\", \"-\"]], \"Proteomes\"=>[[\"UP000006548\", \"Chromosome 3\"]], \"ExpressionAtlas\"=>[[\"P35632\", \"baseline and differential\"]], \"Genevisible\"=>[[\"P35632\", \"AT\"]], \"GO\"=>[[\"GO:0005634\", \"C:nucleus\", \"IDA:TAIR\"], [\"GO:0003700\", \"F:DNA-binding transcription factor activity\", \"ISS:TAIR\"], [\"GO:0046983\", \"F:protein dimerization activity\", \"IEA:InterPro\"], [\"GO:0000977\", \"F:RNA polymerase II regulatory region sequence-specific DNA binding\", \"IEA:InterPro\"], [\"GO:0030154\", \"P:cell differentiation\", \"IEA:UniProtKB-KW\"], [\"GO:0045944\", \"P:positive regulation of transcription by RNA polymerase II\", \"IEA:InterPro\"], [\"GO:0010093\", \"P:specification of floral organ identity\", \"IMP:CACAO\"]], \"CDD\"=>[[\"cd00265\", \"MADS_MEF2_like\", \"1\"]], \"Gene3D\"=>[[\"3.40.1810.10\", \"-\", \"1\"]], \"InterPro\"=>[[\"IPR033896\", \"MADS_MEF2-like\"], [\"IPR002487\", \"TF_Kbox\"], [\"IPR002100\", \"TF_MADSbox\"], [\"IPR036879\", \"TF_MADSbox_sf\"]], \"Pfam\"=>[[\"PF01486\", \"K-box\", \"1\"], [\"PF00319\", \"SRF-TF\", \"1\"]], \"PRINTS\"=>[[\"PR00404\", \"MADSDOMAIN\"]], \"SMART\"=>[[\"SM00432\", \"MADS\", \"1\"]], \"SUPFAM\"=>[[\"SSF55455\", \"SSF55455\", \"1\"]], \"PROSITE\"=>[[\"PS51297\", \"K_BOX\", \"1\"], [\"PS00350\", \"MADS_BOX_1\", \"1\"], [\"PS50066\", \"MADS_BOX_2\", \"1\"]]}]\n"
     ]
    }
   ],
   "source": [
    "require 'rest-client'\n",
    "require 'json'  # to handle JSON format\n",
    "#require 'pp'  # \"pretty print\"  (an alternative to puts for simple output to screen)\n",
    "\n",
    "\n",
    "address = 'http://togows.dbcls.jp/entry/uniprot/AP3_ARATH/dr.json'\n",
    "\n",
    "response = RestClient::Request.execute(\n",
    "  method: :get,\n",
    "  url: address)  \n",
    "\n",
    "# puts response.body\n",
    "\n",
    "data = JSON.parse(response.body)\n",
    "puts data\n",
    "\n",
    "#puts data[0][\"InterPro\"]\n",
    "\n",
    "#for elem in data[0][\"InterPro\"].each\n",
    "  # puts elem\n",
    "  #puts \"InterPro ID: #{elem[0]}  name: #{elem[1]}\"\n",
    "#end\n"
   ]
  },
  {
   "cell_type": "markdown",
   "metadata": {},
   "source": [
    "# Prove you understand\n",
    "\n",
    "* Write the code that prints the journal titles for all of the 'references' of AP3_ARATH\n",
    "\n",
    "* Write the code that retrieves and prints the Gene Ontology annotations from the UFO protein of _Arabidopsis thaliana_ (look up the UniProt protein ID); limit the output to only those that are \"Inferred from Direct Assasy (IDA), or \"Inferred from Mutant Phenotype (IMP)\" and tell the user what the source was (e.g.IMP:TAIR)\n",
    "* pick a problem and a gene/protein/pathway that is interesting for you, and try to solve it using TOGO + Ruby\n",
    "* COMBINE TWO REST APIs:  \n",
    "    * Gibberellins are involved in a wide range of Plant metabolic activities.  I want you to use TOGO to find the (KEGG) reaction:  Gibberellin A12 aldehyde <=> Gibberellin A53 aldehyde, then extract the **Map identifier** for that reaction.\n",
    "    * Use the Map Identifier with the [KEGG REST API](http://www.kegg.jp/kegg/docs/keggapi.html) to retrieve the image of the entire pathway \n",
    "        * **You have succeeded when you have [THIS](http://rest.kegg.jp/get/rn00904/image)**"
   ]
  },
  {
   "cell_type": "code",
   "execution_count": 2,
   "metadata": {},
   "outputs": [
    {
     "name": "stdout",
     "output_type": "stream",
     "text": [
      "TITLE: The homeotic gene APETALA3 of Arabidopsis thaliana encodes a MADS box and is expressed in petals and stamens. \n",
      "\n",
      "\n",
      "TITLE: Genetic complementation of a floral homeotic mutation, apetala3, with an Arabidopsis thaliana gene homologous to DEFICIENS of Antirrhinum majus. \n",
      "\n",
      "\n",
      "TITLE: Molecular population genetics of floral homeotic loci: departures from the equilibrium-neutral model at the APETALA3 and PISTILLATA genes of Arabidopsis thaliana. \n",
      "\n",
      "\n",
      "TITLE: Sequence and analysis of chromosome 3 of the plant Arabidopsis thaliana. \n",
      "\n",
      "\n",
      "TITLE: Araport11: a complete reannotation of the Arabidopsis thaliana reference genome. \n",
      "\n",
      "\n",
      "TITLE: Empirical analysis of transcriptional activity in the Arabidopsis genome. \n",
      "\n",
      "\n",
      "TITLE: Full-length cDNA from Arabidopsis thaliana. \n",
      "\n",
      "\n",
      "TITLE: Development of amplified consensus genetic markers (ACGM) in Brassica napus from Arabidopsis thaliana sequences of known biological function. \n",
      "\n",
      "\n",
      "TITLE: The Arabidopsis homeotic genes APETALA3 and PISTILLATA are sufficient to provide the B class organ identity function. \n",
      "\n",
      "\n",
      "TITLE: A homolog of NO APICAL MERISTEM is an immediate target of the floral homeotic genes APETALA3/PISTILLATA. \n",
      "\n",
      "\n",
      "TITLE: Dimerization specificity of Arabidopsis MADS domain homeotic proteins APETALA1, APETALA3, PISTILLATA, and AGAMOUS. \n",
      "\n",
      "\n",
      "TITLE: Activation of the Arabidopsis B class homeotic genes by APETALA1. \n",
      "\n",
      "\n",
      "TITLE: Complexes of MADS-box proteins are sufficient to convert leaves into floral organs. \n",
      "\n",
      "\n",
      "TITLE: Two GATA transcription factors are downstream effectors of floral homeotic gene action in Arabidopsis. \n",
      "\n",
      "\n",
      "TITLE: Epigenetic regulation of gene programs by EMF1 and EMF2 in Arabidopsis. \n",
      "\n",
      "\n"
     ]
    },
    {
     "data": {
      "text/plain": [
       "[{\"RN\"=>\"[1]\", \"RC\"=>[{\"Token\"=>\"TISSUE\", \"Text\"=>\"Petal\"}], \"RP\"=>[\"NUCLEOTIDE SEQUENCE [MRNA]\"], \"RX\"=>{\"MEDLINE\"=>nil, \"PubMed\"=>\"1346756\", \"DOI\"=>\"10.1016/0092-8674(92)90144-2\"}, \"RA\"=>\"Jack T., Brockman L.L., Meyerowitz E.M.\", \"RT\"=>\"The homeotic gene APETALA3 of Arabidopsis thaliana encodes a MADS box and is expressed in petals and stamens.\", \"RL\"=>\"Cell 68:683-697(1992).\", \"RG\"=>[]}, {\"RN\"=>\"[2]\", \"RC\"=>[{\"Token\"=>\"STRAIN\", \"Text\"=>\"cv. Landsberg erecta\"}], \"RP\"=>[\"NUCLEOTIDE SEQUENCE [GENOMIC DNA]\"], \"RX\"=>{\"MEDLINE\"=>nil, \"PubMed\"=>\"7948893\", \"DOI\"=>\"10.1007/bf00039556\"}, \"RA\"=>\"Okamoto H., Yano A., Shiraishi H., Okada K., Shimura Y.\", \"RT\"=>\"Genetic complementation of a floral homeotic mutation, apetala3, with an Arabidopsis thaliana gene homologous to DEFICIENS of Antirrhinum majus.\", \"RL\"=>\"Plant Mol. Biol. 26:465-472(1994).\", \"RG\"=>[]}, {\"RN\"=>\"[3]\", \"RC\"=>[{\"Token\"=>\"STRAIN\", \"Text\"=>\"cv. Bla-1\"}, {\"Token\"=>\"STRAIN\", \"Text\"=>\"cv. Bretagny\"}, {\"Token\"=>\"STRAIN\", \"Text\"=>\"cv. Bs-1\"}, {\"Token\"=>\"STRAIN\", \"Text\"=>\"cv. Bu-0\"}, {\"Token\"=>\"STRAIN\", \"Text\"=>\"cv. Bu-2\"}, {\"Token\"=>\"STRAIN\", \"Text\"=>\"cv. Chi-1\"}, {\"Token\"=>\"STRAIN\", \"Text\"=>\"cv. Co-1\"}, {\"Token\"=>\"STRAIN\", \"Text\"=>\"cv. Columbia\"}, {\"Token\"=>\"STRAIN\", \"Text\"=>\"cv. Corsacalla-1\"}, {\"Token\"=>\"STRAIN\", \"Text\"=>\"cv. Cvi-0\"}, {\"Token\"=>\"STRAIN\", \"Text\"=>\"cv. Gr-3\"}, {\"Token\"=>\"STRAIN\", \"Text\"=>\"cv. Jl-1\"}, {\"Token\"=>\"STRAIN\", \"Text\"=>\"cv. Kas-1\"}, {\"Token\"=>\"STRAIN\", \"Text\"=>\"cv. Kent\"}, {\"Token\"=>\"STRAIN\", \"Text\"=>\"cv. Landsberg erecta\"}, {\"Token\"=>\"STRAIN\", \"Text\"=>\"cv. Li-3\"}, {\"Token\"=>\"STRAIN\", \"Text\"=>\"cv. Li-8\"}, {\"Token\"=>\"STRAIN\", \"Text\"=>\"cv. Lisse\"}], \"RP\"=>[\"NUCLEOTIDE SEQUENCE [GENOMIC DNA]\", \"VARIANTS ARG-31; THR-47; ASP-61; SER-73; VAL-109; LYS-115; LYS-128; ALA-137; GLU-141; SER-145; MET-151; SER-154; GLY-159; ASN-159; ASP-163; CYS-212 AND THR-219\"], \"RX\"=>{\"MEDLINE\"=>nil, \"PubMed\"=>\"9927474\", \"DOI\"=>nil}, \"RA\"=>\"Purugganan M.D., Suddith J.I.\", \"RT\"=>\"Molecular population genetics of floral homeotic loci: departures from the equilibrium-neutral model at the APETALA3 and PISTILLATA genes of Arabidopsis thaliana.\", \"RL\"=>\"Genetics 151:839-848(1999).\", \"RG\"=>[]}, {\"RN\"=>\"[4]\", \"RC\"=>[{\"Token\"=>\"STRAIN\", \"Text\"=>\"cv. Columbia\"}], \"RP\"=>[\"NUCLEOTIDE SEQUENCE [LARGE SCALE GENOMIC DNA]\"], \"RX\"=>{\"MEDLINE\"=>nil, \"PubMed\"=>\"11130713\", \"DOI\"=>\"10.1038/35048706\"}, \"RA\"=>\"Salanoubat M., Lemcke K., Rieger M., Ansorge W., Unseld M., Fartmann B., Valle G., Bloecker H., Perez-Alonso M., Obermaier B., Delseny M., Boutry M., Grivell L.A., Mache R., Puigdomenech P., De Simone V., Choisne N., Artiguenave F., Robert C., Brottier P., Wincker P., Cattolico L., Weissenbach J., Saurin W., Quetier F., Schaefer M., Mueller-Auer S., Gabel C., Fuchs M., Benes V., Wurmbach E., Drzonek H., Erfle H., Jordan N., Bangert S., Wiedelmann R., Kranz H., Voss H., Holland R., Brandt P., Nyakatura G., Vezzi A., D'Angelo M., Pallavicini A., Toppo S., Simionati B., Conrad A., Hornischer K., Kauer G., Loehnert T.-H., Nordsiek G., Reichelt J., Scharfe M., Schoen O., Bargues M., Terol J., Climent J., Navarro P., Collado C., Perez-Perez A., Ottenwaelder B., Duchemin D., Cooke R., Laudie M., Berger-Llauro C., Purnelle B., Masuy D., de Haan M., Maarse A.C., Alcaraz J.-P., Cottet A., Casacuberta E., Monfort A., Argiriou A., Flores M., Liguori R., Vitale D., Mannhaupt G., Haase D., Schoof H., Rudd S., Zaccaria P., Mewes H.-W., Mayer K.F.X., Kaul S., Town C.D., Koo H.L., Tallon L.J., Jenkins J., Rooney T., Rizzo M., Walts A., Utterback T., Fujii C.Y., Shea T.P., Creasy T.H., Haas B., Maiti R., Wu D., Peterson J., Van Aken S., Pai G., Militscher J., Sellers P., Gill J.E., Feldblyum T.V., Preuss D., Lin X., Nierman W.C., Salzberg S.L., White O., Venter J.C., Fraser C.M., Kaneko T., Nakamura Y., Sato S., Kato T., Asamizu E., Sasamoto S., Kimura T., Idesawa K., Kawashima K., Kishida Y., Kiyokawa C., Kohara M., Matsumoto M., Matsuno A., Muraki A., Nakayama S., Nakazaki N., Shinpo S., Takeuchi C., Wada T., Watanabe A., Yamada M., Yasuda M., Tabata S.\", \"RT\"=>\"Sequence and analysis of chromosome 3 of the plant Arabidopsis thaliana.\", \"RL\"=>\"Nature 408:820-822(2000).\", \"RG\"=>[]}, {\"RN\"=>\"[5]\", \"RC\"=>[{\"Token\"=>\"STRAIN\", \"Text\"=>\"cv. Columbia\"}], \"RP\"=>[\"GENOME REANNOTATION\"], \"RX\"=>{\"MEDLINE\"=>nil, \"PubMed\"=>\"27862469\", \"DOI\"=>\"10.1111/tpj.13415\"}, \"RA\"=>\"Cheng C.Y., Krishnakumar V., Chan A.P., Thibaud-Nissen F., Schobel S., Town C.D.\", \"RT\"=>\"Araport11: a complete reannotation of the Arabidopsis thaliana reference genome.\", \"RL\"=>\"Plant J. 89:789-804(2017).\", \"RG\"=>[]}, {\"RN\"=>\"[6]\", \"RC\"=>[{\"Token\"=>\"STRAIN\", \"Text\"=>\"cv. Columbia\"}], \"RP\"=>[\"NUCLEOTIDE SEQUENCE [LARGE SCALE MRNA]\"], \"RX\"=>{\"MEDLINE\"=>nil, \"PubMed\"=>\"14593172\", \"DOI\"=>\"10.1126/science.1088305\"}, \"RA\"=>\"Yamada K., Lim J., Dale J.M., Chen H., Shinn P., Palm C.J., Southwick A.M., Wu H.C., Kim C.J., Nguyen M., Pham P.K., Cheuk R.F., Karlin-Newmann G., Liu S.X., Lam B., Sakano H., Wu T., Yu G., Miranda M., Quach H.L., Tripp M., Chang C.H., Lee J.M., Toriumi M.J., Chan M.M., Tang C.C., Onodera C.S., Deng J.M., Akiyama K., Ansari Y., Arakawa T., Banh J., Banno F., Bowser L., Brooks S.Y., Carninci P., Chao Q., Choy N., Enju A., Goldsmith A.D., Gurjal M., Hansen N.F., Hayashizaki Y., Johnson-Hopson C., Hsuan V.W., Iida K., Karnes M., Khan S., Koesema E., Ishida J., Jiang P.X., Jones T., Kawai J., Kamiya A., Meyers C., Nakajima M., Narusaka M., Seki M., Sakurai T., Satou M., Tamse R., Vaysberg M., Wallender E.K., Wong C., Yamamura Y., Yuan S., Shinozaki K., Davis R.W., Theologis A., Ecker J.R.\", \"RT\"=>\"Empirical analysis of transcriptional activity in the Arabidopsis genome.\", \"RL\"=>\"Science 302:842-846(2003).\", \"RG\"=>[]}, {\"RN\"=>\"[7]\", \"RC\"=>[], \"RP\"=>[\"NUCLEOTIDE SEQUENCE [LARGE SCALE MRNA]\"], \"RX\"=>{\"MEDLINE\"=>nil, \"PubMed\"=>nil, \"DOI\"=>nil}, \"RA\"=>\"Brover V.V., Troukhan M.E., Alexandrov N.A., Lu Y.-P., Flavell R.B., Feldmann K.A.\", \"RT\"=>\"Full-length cDNA from Arabidopsis thaliana.\", \"RL\"=>\"Submitted (MAR-2002) to the EMBL/GenBank/DDBJ databases.\", \"RG\"=>[]}, {\"RN\"=>\"[8]\", \"RC\"=>[{\"Token\"=>\"STRAIN\", \"Text\"=>\"cv. Columbia\"}], \"RP\"=>[\"NUCLEOTIDE SEQUENCE [GENOMIC DNA] OF 36-128\"], \"RX\"=>{\"MEDLINE\"=>nil, \"PubMed\"=>\"10382288\", \"DOI\"=>\"10.1139/gen-42-3-387\"}, \"RA\"=>\"Brunel D., Froger N., Pelletier G.\", \"RT\"=>\"Development of amplified consensus genetic markers (ACGM) in Brassica napus from Arabidopsis thaliana sequences of known biological function.\", \"RL\"=>\"Genome 42:387-402(1999).\", \"RG\"=>[]}, {\"RN\"=>\"[9]\", \"RC\"=>[], \"RP\"=>[\"FUNCTION\"], \"RX\"=>{\"MEDLINE\"=>nil, \"PubMed\"=>\"8565821\", \"DOI\"=>nil}, \"RA\"=>\"Krizek B.A., Meyerowitz E.M.\", \"RT\"=>\"The Arabidopsis homeotic genes APETALA3 and PISTILLATA are sufficient to provide the B class organ identity function.\", \"RL\"=>\"Development 122:11-22(1996).\", \"RG\"=>[]}, {\"RN\"=>\"[10]\", \"RC\"=>[], \"RP\"=>[\"FUNCTION IN NAP EXPRESSION\"], \"RX\"=>{\"MEDLINE\"=>nil, \"PubMed\"=>\"9489703\", \"DOI\"=>\"10.1016/s0092-8674(00)80902-2\"}, \"RA\"=>\"Sablowski R.W.M., Meyerowitz E.M.\", \"RT\"=>\"A homolog of NO APICAL MERISTEM is an immediate target of the floral homeotic genes APETALA3/PISTILLATA.\", \"RL\"=>\"Cell 92:93-103(1998).\", \"RG\"=>[]}, {\"RN\"=>\"[11]\", \"RC\"=>[], \"RP\"=>[\"CHARACTERIZATION\"], \"RX\"=>{\"MEDLINE\"=>nil, \"PubMed\"=>\"8643482\", \"DOI\"=>\"10.1073/pnas.93.10.4793\"}, \"RA\"=>\"Riechmann J.L., Krizek B.A., Meyerowitz E.M.\", \"RT\"=>\"Dimerization specificity of Arabidopsis MADS domain homeotic proteins APETALA1, APETALA3, PISTILLATA, and AGAMOUS.\", \"RL\"=>\"Proc. Natl. Acad. Sci. U.S.A. 93:4793-4798(1996).\", \"RG\"=>[]}, {\"RN\"=>\"[12]\", \"RC\"=>[], \"RP\"=>[\"INDUCTION\"], \"RX\"=>{\"MEDLINE\"=>nil, \"PubMed\"=>\"11283333\", \"DOI\"=>\"10.1105/tpc.13.4.739\"}, \"RA\"=>\"Ng M., Yanofsky M.F.\", \"RT\"=>\"Activation of the Arabidopsis B class homeotic genes by APETALA1.\", \"RL\"=>\"Plant Cell 13:739-753(2001).\", \"RG\"=>[]}, {\"RN\"=>\"[13]\", \"RC\"=>[], \"RP\"=>[\"CHARACTERIZATION\"], \"RX\"=>{\"MEDLINE\"=>nil, \"PubMed\"=>\"11206550\", \"DOI\"=>\"10.1038/35054083\"}, \"RA\"=>\"Honma T., Goto K.\", \"RT\"=>\"Complexes of MADS-box proteins are sufficient to convert leaves into floral organs.\", \"RL\"=>\"Nature 409:525-529(2001).\", \"RG\"=>[]}, {\"RN\"=>\"[14]\", \"RC\"=>[], \"RP\"=>[\"FUNCTION\"], \"RX\"=>{\"MEDLINE\"=>nil, \"PubMed\"=>\"18417639\", \"DOI\"=>\"10.1104/pp.107.115634\"}, \"RA\"=>\"Mara C.D., Irish V.F.\", \"RT\"=>\"Two GATA transcription factors are downstream effectors of floral homeotic gene action in Arabidopsis.\", \"RL\"=>\"Plant Physiol. 147:707-718(2008).\", \"RG\"=>[]}, {\"RN\"=>\"[15]\", \"RC\"=>[], \"RP\"=>[\"INDUCTION BY EMF1 AND EMF2\"], \"RX\"=>{\"MEDLINE\"=>nil, \"PubMed\"=>\"19783648\", \"DOI\"=>\"10.1104/pp.109.143495\"}, \"RA\"=>\"Kim S.Y., Zhu T., Sung Z.R.\", \"RT\"=>\"Epigenetic regulation of gene programs by EMF1 and EMF2 in Arabidopsis.\", \"RL\"=>\"Plant Physiol. 152:516-528(2010).\", \"RG\"=>[]}]"
      ]
     },
     "execution_count": 2,
     "metadata": {},
     "output_type": "execute_result"
    }
   ],
   "source": [
    "require 'rest-client'\n",
    "require 'json'  \n",
    "\n",
    "address = 'http://togows.org/entry/ebi-uniprot/AP3_ARATH/ref.json'\n",
    "\n",
    "response = RestClient::Request.execute(\n",
    "  method: :get,\n",
    "  url: address)  \n",
    "\n",
    "data = JSON.parse(response.body)\n",
    "\n",
    "for elem in data[0]\n",
    "  puts \"TITLE: #{elem[\"RT\"]} \\n\\n\"\n",
    "end\n"
   ]
  },
  {
   "cell_type": "code",
   "execution_count": 18,
   "metadata": {},
   "outputs": [
    {
     "name": "stdout",
     "output_type": "stream",
     "text": [
      "GO:0004842 IMP:TAIR\n",
      "GO:0006355 IDA:TAIR\n"
     ]
    },
    {
     "data": {
      "text/plain": [
       "[[\"GO:0005634\", \"C:nucleus\", \"IEA:UniProtKB-SubCell\"], [\"GO:0008134\", \"F:transcription factor binding\", \"IPI:TAIR\"], [\"GO:0004842\", \"F:ubiquitin-protein transferase activity\", \"IMP:TAIR\"], [\"GO:0030154\", \"P:cell differentiation\", \"IEA:UniProtKB-KW\"], [\"GO:0009908\", \"P:flower development\", \"IEA:UniProtKB-KW\"], [\"GO:0010074\", \"P:maintenance of meristem identity\", \"IEA:EnsemblPlants\"], [\"GO:0042127\", \"P:regulation of cell population proliferation\", \"IEA:EnsemblPlants\"], [\"GO:0009909\", \"P:regulation of flower development\", \"IEA:EnsemblPlants\"], [\"GO:0006355\", \"P:regulation of transcription, DNA-templated\", \"IDA:TAIR\"], [\"GO:1901342\", \"P:regulation of vasculature development\", \"IEA:EnsemblPlants\"], [\"GO:0010193\", \"P:response to ozone\", \"IEA:EnsemblPlants\"], [\"GO:0031146\", \"P:SCF-dependent proteasomal ubiquitin-dependent protein catabolic process\", \"IGI:TAIR\"]]"
      ]
     },
     "execution_count": 18,
     "metadata": {},
     "output_type": "execute_result"
    }
   ],
   "source": [
    "require 'rest-client'\n",
    "require 'json'  \n",
    "\n",
    "address = 'http://togows.dbcls.jp/entry/uniprot/UFO_ARATH/dr.json'\n",
    "\n",
    "response = RestClient::Request.execute(\n",
    "  method: :get,\n",
    "  url: address)  \n",
    "\n",
    "data = JSON.parse(response.body)\n",
    "#puts data[0][\"GO\"]\n",
    "\n",
    "for elem in data[0][\"GO\"]\n",
    "  if (elem[2] =~ /^IDA/ or elem[2] =~ /^IMP/)\n",
    "    puts elem[0] + \" \" + elem[2]\n",
    "  end\n",
    "end"
   ]
  }
 ],
 "metadata": {
  "kernelspec": {
   "display_name": "Ruby 2.6.3",
   "language": "ruby",
   "name": "ruby"
  },
  "language_info": {
   "file_extension": ".rb",
   "mimetype": "application/x-ruby",
   "name": "ruby",
   "version": "2.6.3"
  }
 },
 "nbformat": 4,
 "nbformat_minor": 2
}
