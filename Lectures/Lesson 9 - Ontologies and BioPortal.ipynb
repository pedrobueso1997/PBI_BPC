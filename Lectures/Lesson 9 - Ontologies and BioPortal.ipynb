{
 "cells": [
  {
   "cell_type": "markdown",
   "metadata": {},
   "source": [
    "# Exploration of Ontologies and Ontology Tools\n",
    "\n",
    "Our discussion of Linked Data very quickly led us to a discussion of Ontologies.  Ontologies are what make it possible for a machine to understand the **content** of Linked Data - where Linked Data provides a machine-readable **structure** (provided by RDF), Ontologies provide machine-interpretable **semantics** (i.e., they define the _meaning_ of the data within that structure).   \n",
    "\n",
    "Before we look at Linked Data in any more detail, we should look more closely at Ontologies - What are they?  Where do you find them? How do you use them in Linked Data?  What kinds of tools are available to make your analyses easier using ontologies?\n",
    "\n",
    "\n",
    "# Start with Gene Ontology\n",
    "\n",
    "I am using Pascale Gaudet's [Gene Ontology lecture notes](https://drive.google.com/open?id=0B7FLMiAz5IXPZ05NUnFTLUh5VjA)\n",
    "\n",
    "\n",
    "# GO is only one!\n",
    "\n",
    "The Gene Ontology is only one of many ontologies in the life sciences.  Most (not all) life science ontologies are deposited in a central location called the [BioPortal](https://bioportal.bioontology.org/), from the (USA) National Center for Biomedical Ontology.   Surf there now...\n",
    "\n",
    "After we [explore the JSON interface](https://docs.google.com/presentation/d/1xjHyHTSrFpYdg10QqLOvLI5WCuw8dbfZZLmay8qm6OQ) for the Annotator tool, we will use it to add to our bibliographic script created in the last lesson.\n",
    "\n",
    "\n",
    "YOUR TASK:  Create the Ruby that:\n",
    "    \n",
    "    * Retrieves the bibliographic references for the first 5 \"Wilkinson MD\"[AUTH] matches in NCBI PubMed\n",
    "    * takes each of the TITLES\n",
    "    * send them (one at a time) to the annotator\n",
    "    * extract the ontology terms (which ontology, and its ID, and its label e.g. --> GO : 0003456 : \"Apoptosis\"\n",
    "    \n",
    "\n",
    "\n",
    "The other BioPortal tools can be accessed in a similar way.\n",
    "\n",
    "\n",
    "\n",
    "\n",
    "\n"
   ]
  }
 ],
 "metadata": {
  "kernelspec": {
   "display_name": "Ruby 2.6.3",
   "language": "ruby",
   "name": "ruby"
  },
  "language_info": {
   "file_extension": ".rb",
   "mimetype": "application/x-ruby",
   "name": "ruby",
   "version": "2.6.3"
  }
 },
 "nbformat": 4,
 "nbformat_minor": 2
}
