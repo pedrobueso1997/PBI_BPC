{
 "cells": [
  {
   "cell_type": "markdown",
   "metadata": {},
   "source": [
    "# Solution  5A\n"
   ]
  },
  {
   "cell_type": "code",
   "execution_count": 1,
   "metadata": {},
   "outputs": [
    {
     "name": "stdout",
     "output_type": "stream",
     "text": [
      "/home/osboxes/UPM_BioinfoCourse/Lectures\n",
      "cross-references for GO:0005634 are [\"NIF_Subcellular:sao1702920020\", \"Wikipedia:Cell_nucleus\"]\n"
     ]
    }
   ],
   "source": [
    "require 'net/http'   # this is how you access the Web\n",
    "require 'gene_ontology'  # the gem for gene ontology obo files\n",
    "\n",
    "puts Dir.pwd   # this is how you discover what folder you are in...\n",
    "\n",
    "def fetch(uri_str)  # this \"fetch\" routine does some basic error-handling.  \n",
    "\n",
    "  address = URI(uri_str)  # create a \"URI\" object (Uniform Resource Identifier: https://en.wikipedia.org/wiki/Uniform_Resource_Identifier)\n",
    "  response = Net::HTTP.get_response(address)  # use the Net::HTTP object \"get_response\" method\n",
    "                                               # to call that address\n",
    "\n",
    "  case response   # the \"case\" block allows you to test various conditions... it is like an \"if\", but cleaner!\n",
    "    when Net::HTTPSuccess then  # when response is of type Net::HTTPSuccess\n",
    "      # successful retrieval of web page\n",
    "      return response  # return that response object\n",
    "    else\n",
    "      raise Exception, \"Something went wrong... the call to #{uri_str} failed; type #{response.class}\"\n",
    "      # note - if you want to learn more about Exceptions, and error-handling\n",
    "      # read this page:  http://rubylearning.com/satishtalim/ruby_exceptions.html  \n",
    "      # you can capture the Exception and do something useful with it!\n",
    "      response = false\n",
    "      return response  # now we are returning False\n",
    "    end \n",
    "end\n",
    "    \n",
    "\n",
    "    \n",
    "res = fetch('http://www.geneontology.org/ontology/subsets/goslim_plant.obo');\n",
    "  \n",
    "if res  # res is either the response object, or False, so you can test it with 'if'\n",
    "  body = res.body  # get the \"body\" of the response\n",
    "  #puts body\n",
    "  # Create a new file and write to it  \n",
    "  File.open('geneontology.obo', 'w') do |myfile|  \n",
    "  # use \"\\n\" for two lines of text  \n",
    "    myfile.puts body \n",
    "  end  \n",
    "end\n",
    "\n",
    "  \n",
    "go = GeneOntology.new.from_file(\"geneontology.obo\")\n",
    "#puts go.header # => a GeneOntology::Header object\n",
    "#puts go.id_to_term # => a hash from GO id to the GeneOntology::Term\n",
    "  \n",
    "term = go.id_to_term['GO:0005634']   # GO 5634 is the term for \"nucleus\"\n",
    "\n",
    "#puts term.public_methods  # all of the methods that a term can respond to.  Two of these are \"id\" and \"xref\"\n",
    "puts \"cross-references for #{term.id} are #{term.xref}\""
   ]
  },
  {
   "cell_type": "code",
   "execution_count": null,
   "metadata": {
    "collapsed": true
   },
   "outputs": [],
   "source": []
  }
 ],
 "metadata": {
  "kernelspec": {
   "display_name": "Ruby 2.6.3",
   "language": "ruby",
   "name": "ruby"
  },
  "language_info": {
   "file_extension": ".rb",
   "mimetype": "application/x-ruby",
   "name": "ruby",
   "version": "2.6.3"
  }
 },
 "nbformat": 4,
 "nbformat_minor": 2
}
