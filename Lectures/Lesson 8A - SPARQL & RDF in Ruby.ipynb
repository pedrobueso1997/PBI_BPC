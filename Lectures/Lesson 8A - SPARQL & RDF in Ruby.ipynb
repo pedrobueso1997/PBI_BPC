{
 "cells": [
  {
   "cell_type": "markdown",
   "metadata": {},
   "source": [
    "# SPARQL in Ruby scripts\n",
    "\n",
    "Executing a SPARQL query in Ruby is extremely simple. It uses the [SPARQL client](http://www.rubydoc.info/github/ruby-rdf/sparql-client/frames) Ruby Gem, which uses [RDF::Query::Solutions](http://www.rubydoc.info/github/ruby-rdf/rdf/RDF/Query/Solutions)and the code is as follows:\n",
    "\n"
   ]
  },
  {
   "cell_type": "code",
   "execution_count": 2,
   "metadata": {},
   "outputs": [
    {
     "name": "stdout",
     "output_type": "stream",
     "text": [
      "RDF::Query::Solutions\n",
      "Species Arabidopsis lyrata subsp. petraea is depicted by image https://upload.wikimedia.org/wikipedia/commons/2/25/Northern_Rock-cress_%28Cardaminopsis_petraea%29_-_geograph.org.uk_-_723142.jpg\n",
      "Species Arabidopsis thaliana is depicted by image https://upload.wikimedia.org/wikipedia/commons/3/39/Arabidopsis.jpg\n",
      "Species Arabidopsis thaliana is depicted by image https://upload.wikimedia.org/wikipedia/commons/thumb/6/60/Arabidopsis_thaliana_inflorescencias.jpg/800px-Arabidopsis_thaliana_inflorescencias.jpg\n",
      "Species Arabidopsis arenosa is depicted by image https://upload.wikimedia.org/wikipedia/commons/2/22/Cardaminopsis_arenosa.jpeg\n",
      "Species Arabidopsis arenosa is depicted by image https://upload.wikimedia.org/wikipedia/commons/thumb/3/3f/Cardaminopsis_arenosa_habitus.jpeg/450px-Cardaminopsis_arenosa_habitus.jpeg\n",
      "\n"
     ]
    }
   ],
   "source": [
    "\n",
    "require 'sparql/client'\n",
    "\n",
    "endpoint = \"http://sparql.uniprot.org/sparql\"\n",
    "query = \n",
    "<<END\n",
    "PREFIX foaf:<http://xmlns.com/foaf/0.1/>\n",
    "SELECT ?name ?image\n",
    "WHERE \n",
    "{\n",
    "  ?taxon  <http://xmlns.com/foaf/0.1/depiction>  ?image .\n",
    "  ?taxon <http://purl.uniprot.org/core/scientificName> ?name .\n",
    "  FILTER regex(?name, '^Arabidopsis.*', 'i') .\n",
    "}\n",
    "END\n",
    "\n",
    "sparql = SPARQL::Client.new(endpoint)\n",
    "result = sparql.query(query)\n",
    "\n",
    "puts result.class\n",
    "result.each do |solution|\n",
    "  puts \"Species #{solution[:name]} is depicted by image #{solution[:image]}\"\n",
    "end\n",
    "puts \"\""
   ]
  },
  {
   "cell_type": "markdown",
   "metadata": {},
   "source": [
    "\n",
    "### and that's really all there is to it!  Easy!"
   ]
  },
  {
   "cell_type": "markdown",
   "metadata": {},
   "source": [
    "# Loading, Creating and Writing RDF in Ruby\n",
    "\n",
    "Here we will use the [<code>rdf</code> ruby gem](http://ruby-rdf.github.io/rdf/) which is extremely easy to understand.  There are two ways to work with RDF in Ruby: \n",
    "\n",
    "### Method 1\n",
    "You can start with an RDF file (either locally or on the Web), and load it into a \"graph\" as follows:\n",
    "\n"
   ]
  },
  {
   "cell_type": "code",
   "execution_count": 3,
   "metadata": {},
   "outputs": [
    {
     "name": "stdout",
     "output_type": "stream",
     "text": [
      "RDF::Graph\n",
      "85\n"
     ]
    }
   ],
   "source": [
    "require 'rdf'\n",
    "require 'rdf/ntriples'\n",
    "\n",
    "graph = RDF::Graph.load(\"http://ruby-rdf.github.com/rdf/etc/doap.nt\")\n",
    "puts graph.class\n",
    "puts graph.size   # number of triples in the graph"
   ]
  },
  {
   "cell_type": "markdown",
   "metadata": {},
   "source": [
    "\n",
    "(note that we will ONLY use ntriples in this course - a more common RDF format is 'Turtle' but there are efficiencies we can gain by using ntriples format, so that is what we will use.  You can read the documentation for yourself to learn how to load other RDF formats...)\n",
    "\n",
    "Once we have loaded the data, we convert it into an RDF::Repository Object, and then use that exactly as we used the SPARQL endpoint in the example above:\n",
    " "
   ]
  },
  {
   "cell_type": "code",
   "execution_count": 4,
   "metadata": {},
   "outputs": [
    {
     "name": "stdout",
     "output_type": "stream",
     "text": [
      "RDF::Graph\n",
      "85\n",
      "85\n",
      "Database contains the person:  Pius Uzamere\n",
      "Database contains the person:  Gregg Kellogg\n",
      "Database contains the person:  Ben Lavender\n",
      "Database contains the person:  Hellekin O. Wolf\n",
      "Database contains the person:  Joey Geiger\n",
      "Database contains the person:  Călin Ardelean\n",
      "Database contains the person:  Keita Urashima\n",
      "Database contains the person:  Arto Bendiken\n",
      "Database contains the person:  Fumihiro Kato\n",
      "Database contains the person:  John Fieber\n",
      "Database contains the person:  Danny Gagne\n",
      "Database contains the person:  Naoki Kawamukai\n",
      "\n"
     ]
    }
   ],
   "source": [
    "require 'rdf'\n",
    "require 'sparql/client'\n",
    "require 'rdf/ntriples'\n",
    "require 'rdf/repository'\n",
    "\n",
    "graph = RDF::Graph.load(\"http://ruby-rdf.github.com/rdf/etc/doap.nt\")\n",
    "\n",
    "repo = RDF::Repository.new   # a repository can be used as a SPARQL endpoint for SPARQL::Client\n",
    "repo.insert(*graph)   # the \"splat\" operator (*) converts an array into a list of individual things, in this case, the individual triples in the RDF::Graph\n",
    "puts repo.count\n",
    "\n",
    "query = \n",
    "<<END\n",
    "PREFIX foaf:<http://xmlns.com/foaf/0.1/>\n",
    "SELECT ?name\n",
    "WHERE \n",
    "{\n",
    "  ?p a foaf:Person .\n",
    "  ?p foaf:name ?name .\n",
    "}\n",
    "END\n",
    "\n",
    "sparql2 = SPARQL::Client.new(repo)\n",
    "result = sparql2.query(query)\n",
    "\n",
    "result.each do |solution|\n",
    "  puts \"Database contains the person:  #{solution[:name]}\"  # call the pairs of variables in our query\n",
    "end\n",
    "puts \"\""
   ]
  },
  {
   "cell_type": "markdown",
   "metadata": {},
   "source": [
    "\n",
    "### Method 2\n",
    "Another way is to create the RDF _de novo_.  For this, we will again use the rdf Gem, and in particular, the [RDF::Statement](http://www.rubydoc.info/github/ruby-rdf/rdf/master/RDF/Statement) Class.\n",
    "\n",
    "It is useful to know some common ontologys for predicates:\n",
    "\n",
    "| Ontology | URL |\n",
    "| --- | --- |\n",
    "| Dublin Core | http://purl.org/dc/terms/ |\n",
    "| Friend of a Friend (FOAF) |  http://xmlns.com/foaf/0.1/knows |\n",
    "| RDF | http://www.w3.org/1999/02/22-rdf-syntax-ns |\n",
    "| RDF Schema (RDFS) | http://www.w3.org/2000/01/rdf-schema |\n",
    "| Web Ontology Language (OWL) | http://www.w3.org/2002/07/owl# |\n",
    "| XML Schema Datatypes (XSD) | http://www.w3.org/2001/XMLSchema# |\n",
    "\n",
    "(note that you can use ANY of the terms in those ontologies... for example DC.author or FOAF.name)\n",
    "\n",
    "\n",
    "Here is an example of the code:\n",
    "\n"
   ]
  },
  {
   "cell_type": "code",
   "execution_count": 5,
   "metadata": {},
   "outputs": [
    {
     "name": "stdout",
     "output_type": "stream",
     "text": [
      "Database contains the person:  Mark Wilkinson\n",
      "done\n"
     ]
    }
   ],
   "source": [
    "require 'rdf'\n",
    "require 'sparql/client'\n",
    "require 'rdf/ntriples'\n",
    "require 'rdf/repository'\n",
    "\n",
    "repo = RDF::Repository.new   # a repository can be used as a SPARQL endpoint for SPARQL::Client\n",
    "\n",
    "# create the vocabularies I will use\n",
    "foaf = RDF::Vocabulary.new(\"http://xmlns.com/foaf/0.1/\")\n",
    "dc = RDF::Vocabulary.new(\"http://purl.org/dc/terms/\")\n",
    "rdf = RDF::Vocabulary.new(\"http://www.w3.org/1999/02/22-rdf-syntax-ns#\")\n",
    "\n",
    "# create the Subject, Predicate, and Object of a triple\n",
    "s = RDF::URI.new(\"http://wilkinsonlab.info/Courses\")\n",
    "p = dc.creator\n",
    "o = RDF::URI.new(\"http://wilkinsonlab.info/#mark\")\n",
    "triple = RDF::Statement(s, p, o) # make a statement object (a triple)\n",
    "repo.insert(triple)  # add it to your repository\n",
    "\n",
    "# create the Subject, Predicate, and Object of the next triple\n",
    "s = RDF::URI.new(\"http://wilkinsonlab.info/#mark\")\n",
    "p = foaf.name\n",
    "o = RDF::Literal.new(\"Mark Wilkinson\")\n",
    "triple = RDF::Statement(s, p, o) # make a statement object (a triple)\n",
    "repo.insert(triple)  # add it to your repository\n",
    "\n",
    "# create the Subject, Predicate, and Object of the last triple\n",
    "s = RDF::URI.new(\"http://wilkinsonlab.info/#mark\")\n",
    "p = rdf.type\n",
    "o = foaf.Person\n",
    "triple = RDF::Statement(s, p, o) # make a statement object (a triple)\n",
    "repo.insert(triple)  # add it to your repository\n",
    "\n",
    "# and from here, it is exactly the same as before...\n",
    "\n",
    "query = \n",
    "<<END\n",
    "PREFIX foaf:<http://xmlns.com/foaf/0.1/>\n",
    "SELECT ?name\n",
    "WHERE\n",
    "{\n",
    "  ?p a foaf:Person .\n",
    "  ?p foaf:name ?name\n",
    "}\n",
    "END\n",
    "\n",
    "sparql2 = SPARQL::Client.new(repo)\n",
    "result = sparql2.query(query)\n",
    "\n",
    "result.each do |solution|\n",
    "  puts \"Database contains the person:  #{solution[:name]}\"  # call the pairs of variables in our query\n",
    "end\n",
    "puts \"done\""
   ]
  },
  {
   "cell_type": "markdown",
   "metadata": {},
   "source": [
    "# Writing RDF to a file\n",
    "\n",
    "The final thing we need to do is export our beautiful RDF to a file so that it can be loaded into a database.  This is easy too:\n",
    "\n",
    "**(look in your Lectures/files/ folder to see the output...)**\n",
    "\n"
   ]
  },
  {
   "cell_type": "code",
   "execution_count": 5,
   "metadata": {},
   "outputs": [
    {
     "data": {
      "text/plain": [
       "#<RDF::NTriples::Writer:0x000000000331ed38 @options={:validate=>true, :logger=>#<IRuby::OStream:0x000000000239ace0 @session=#<IRuby::Session:0x000000000239b668 @sockets={:publish=>#<CZTop::Socket::PUB:0x238abc0 last_endpoint=\"tcp://127.0.0.1:44011\">, :reply=>#<CZTop::Socket::ROUTER:0x2367c40 last_endpoint=\"tcp://127.0.0.1:44535\">, :stdin=>#<CZTop::Socket::ROUTER:0x23a07e0 last_endpoint=\"tcp://127.0.0.1:54901\">}, @session=\"5a578698-c2ff-4bce-8a1a-9e2f8cb51721\", @hmac=54085e082ba32b52036dc98f4ec28ec1025b94a3f14357a5fe3dcb57af2169a6, @last_recvd_msg={:idents=>[\"c227ff01ae764e94aaff02ac6f9dd203\"], :header=>{\"msg_id\"=>\"63325c7f05104614bb11f435000b69bc\", \"username\"=>\"username\", \"session\"=>\"c227ff01ae764e94aaff02ac6f9dd203\", \"msg_type\"=>\"execute_request\", \"version\"=>\"5.2\", \"date\"=>\"2019-11-20T15:17:21.519192Z\"}, :parent_header=>{}, :metadata=>{}, :content=>{\"code\"=>\"RDF::Writer.open(\\\"./files/MarkWilkinson.nt\\\") { |writer| writer << repo }\\n\", \"silent\"=>false, \"store_history\"=>true, \"user_expressions\"=>{}, \"allow_stdin\"=>true, \"stop_on_error\"=>true}, :buffers=>nil}>, @name=:stderr>, :encoding=>#<Encoding:UTF-8>}, @output=#<File:./files/MarkWilkinson.nt (closed)>, @node_id_map={}, @node_id=0, @nodes={}, @logged_errors_at_prolog=0>"
      ]
     },
     "execution_count": 5,
     "metadata": {},
     "output_type": "execute_result"
    }
   ],
   "source": [
    "RDF::Writer.open(\"./files/MarkWilkinson.nt\") { |writer| writer << repo }"
   ]
  },
  {
   "cell_type": "markdown",
   "metadata": {},
   "source": [
    "\n",
    "# THAT's ALL!\n"
   ]
  }
 ],
 "metadata": {
  "kernelspec": {
   "display_name": "Ruby 2.6.3",
   "language": "ruby",
   "name": "ruby"
  },
  "language_info": {
   "file_extension": ".rb",
   "mimetype": "application/x-ruby",
   "name": "ruby",
   "version": "2.6.3"
  }
 },
 "nbformat": 4,
 "nbformat_minor": 2
}
