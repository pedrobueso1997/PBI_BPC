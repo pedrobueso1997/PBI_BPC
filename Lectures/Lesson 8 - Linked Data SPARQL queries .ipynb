{
 "cells": [
  {
   "cell_type": "markdown",
   "metadata": {},
   "source": [
    "# Linked Data\n",
    "\n",
    "Switch to the slide deck on [Google Slides](https://docs.google.com/presentation/d/1STNxE0C_1XPFYw4WKs2UoCPzN44vRKT83VU4zQC0Wvc/)\n",
    "\n",
    "<pre>\n",
    "\n",
    "\n",
    "</pre>\n",
    "\n",
    "\n",
    "We are now using the **SPARQL Kernel for Jupyter Notebooks**.  [Look at the documentation](https://github.com/paulovn/sparql-kernel) to understand the \"magic instructions\" ('%')\n",
    "\n",
    "<pre>\n",
    "\n",
    "\n",
    "</pre>\n",
    "\n"
   ]
  },
  {
   "cell_type": "code",
   "execution_count": 1,
   "metadata": {},
   "outputs": [
    {
     "data": {
      "text/html": [
       "<div class=\"krn-spql\"><div class=\"magic\">Endpoint set to: https://www.ebi.ac.uk/rdf/services/sparql</div><div class=\"magic\">Return format: JSON</div></div>"
      ],
      "text/plain": [
       "Endpoint set to: https://www.ebi.ac.uk/rdf/services/sparql\n",
       "Return format: JSON\n"
      ]
     },
     "metadata": {},
     "output_type": "display_data"
    },
    {
     "data": {
      "text/html": [
       "<div class=\"krn-spql\"><table><tr class=hdr><th>p</th></tr><tr class=odd><td class=val><a href=\"http://www.w3.org/2000/01/rdf-schema#seeAlso\" target=\"_other\">http://www.w3.org/2000/01/rdf-schema#seeAlso</a></td></tr><tr class=even><td class=val><a href=\"http://rdf.ebi.ac.uk/terms/ensembl/DEPENDENT\" target=\"_other\">http://rdf.ebi.ac.uk/terms/ensembl/DEPENDENT</a></td></tr></table><div class=\"tinfo\">Total: 2, Shown: 2</div></div>"
      ]
     },
     "metadata": {},
     "output_type": "display_data"
    }
   ],
   "source": [
    "%endpoint https://www.ebi.ac.uk/rdf/services/sparql\n",
    "%format JSON\n",
    "\n",
    "PREFIX  ids:  <http://identifiers.org/ncbigene/>\n",
    "SELECT distinct  ?p \n",
    "WHERE {?s   ?p   ids:672}\n"
   ]
  },
  {
   "cell_type": "code",
   "execution_count": 2,
   "metadata": {},
   "outputs": [
    {
     "data": {
      "text/html": [
       "<div class=\"krn-spql\"><div class=\"magic\">Endpoint set to: https://sparql.uniprot.org/sparql</div><div class=\"magic\">Return format: JSON</div></div>"
      ],
      "text/plain": [
       "Endpoint set to: https://sparql.uniprot.org/sparql\n",
       "Return format: JSON\n"
      ]
     },
     "metadata": {},
     "output_type": "display_data"
    },
    {
     "data": {
      "text/html": [
       "<div class=\"krn-spql\"><table><tr class=hdr><th>name</th>\n",
       "<th>image</th></tr><tr class=odd><td class=val>Antirrhinum majus</td>\n",
       "<td class=val><a href=\"https://upload.wikimedia.org/wikipedia/commons/thumb/1/10/L%C3%B6wenmaul_IMG_6052.JPG/400px-L%C3%B6wenmaul_IMG_6052.JPG\" target=\"_other\">https://upload.wikimedia.org/wikipedia/commons/thumb/1/10/L%C3%B6wenmaul_IMG_6052.JPG/400px-L%C3%B6wenmaul_IMG_6052.JPG</a></td></tr><tr class=even><td class=val>Antirrhinum majus</td>\n",
       "<td class=val><a href=\"https://upload.wikimedia.org/wikipedia/commons/thumb/6/66/Antirrhinum_majus_from_Thasos.JPG/400px-Antirrhinum_majus_from_Thasos.JPG\" target=\"_other\">https://upload.wikimedia.org/wikipedia/commons/thumb/6/66/Antirrhinum_majus_from_Thasos.JPG/400px-Antirrhinum_majus_from_Thasos.JPG</a></td></tr><tr class=odd><td class=val>Antirrhinum majus</td>\n",
       "<td class=val><a href=\"https://upload.wikimedia.org/wikipedia/commons/thumb/d/d3/Antirrhinum_majus_closeup_MichaD.jpg/399px-Antirrhinum_majus_closeup_MichaD.jpg\" target=\"_other\">https://upload.wikimedia.org/wikipedia/commons/thumb/d/d3/Antirrhinum_majus_closeup_MichaD.jpg/399px-Antirrhinum_majus_closeup_MichaD.jpg</a></td></tr></table><div class=\"tinfo\">Total: 3, Shown: 3</div></div>"
      ]
     },
     "metadata": {},
     "output_type": "display_data"
    }
   ],
   "source": [
    "%endpoint https://sparql.uniprot.org/sparql\n",
    "%format JSON\n",
    "\n",
    "PREFIX up:<http://purl.uniprot.org/core/> \n",
    "PREFIX foaf:<http://xmlns.com/foaf/0.1/>\n",
    "SELECT ?name ?image\n",
    "WHERE \n",
    "{\n",
    "       ?taxon    foaf:depiction  ?image .\n",
    "       ?taxon    up:scientificName   ?name .\n",
    "       FILTER(CONTAINS(?name, \"Antirrhinum majus\"))\n",
    "} \n",
    "LIMIT 10\n"
   ]
  }
 ],
 "metadata": {
  "kernelspec": {
   "display_name": "SPARQL",
   "language": "sparql",
   "name": "sparql"
  },
  "language_info": {
   "codemirror_mode": {
    "name": "sparql"
   },
   "mimetype": "application/sparql-query",
   "name": "sparql",
   "pygments_lexer": "sparql-nb"
  }
 },
 "nbformat": 4,
 "nbformat_minor": 2
}
