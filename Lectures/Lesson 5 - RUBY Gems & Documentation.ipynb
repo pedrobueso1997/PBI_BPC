{
 "cells": [
  {
   "cell_type": "markdown",
   "metadata": {},
   "source": [
    "# Package Manager\n",
    "\n",
    "RubyGems is a PackageManager - that is, it is software that makes it easier to find, share, and reuse other people's classes\n",
    "\n",
    "The Website for RubyGems is:  http://rubygems.org\n",
    "\n",
    "browse to that site now...\n",
    "\n",
    "search for \"xml\" - we are looking for a package that will give us an easy way to manage XML files  (please tell me if you need me to give you a lecture on XML...). XML is a syntax for carrying structured data. It follows a tree structure and returns the information as hashes and lists.\n",
    "\n"
   ]
  },
  {
   "cell_type": "markdown",
   "metadata": {},
   "source": [
    "Found one here:  https://rubygems.org/gems/xml-simple\n",
    "\n",
    "        \n",
    "## xml-simple 1.1.5\n",
    "\n",
    "A simple API for XML processing.\n",
    "\n",
    "\n",
    "Click on the \"documentation\" link:  http://www.rubydoc.info/gems/xml-simple/1.1.5\n",
    "\n",
    "\n",
    "    Class: XmlSimple\n",
    "\n",
    "    Inherits:    Object\n",
    "    Includes:  REXML\n",
    "    Defined in:   lib/xmlsimple.rb\n",
    "\n",
    "\n",
    "The \"Class\" tells you the name of the object\n",
    "The \"Defined in\" tells you the name of the package you need to require.\n",
    "\n",
    "\n"
   ]
  },
  {
   "cell_type": "code",
   "execution_count": 1,
   "metadata": {},
   "outputs": [
    {
     "data": {
      "text/plain": [
       "#<XmlSimple:0x0000000001867238 @default_options=nil, @options={}, @_var_values=nil>"
      ]
     },
     "execution_count": 1,
     "metadata": {},
     "output_type": "execute_result"
    }
   ],
   "source": [
    "require 'xmlsimple'\n",
    "simple = XmlSimple.new"
   ]
  },
  {
   "cell_type": "markdown",
   "metadata": {},
   "source": [
    "# INSTALLING A GEM\n",
    "\n",
    "To install this package (called a \"Gem\" in Ruby):\n",
    "\n",
    "Open a terminal window, and type:\n",
    "\n",
    "    $ gem install xml-simple  (note - same capitalization and punctuation as the **package** name)\n",
    "    \n",
    "After you install a Gem, you will need to restart the Ruby kernel in your Jupyter Notebook.  In the menu bar of this web page, you will see \"Kernel\", select that, then \"restart and clear output\".\n",
    "\n",
    "Now your package is available to use in your code!"
   ]
  },
  {
   "cell_type": "markdown",
   "metadata": {},
   "source": [
    "\n",
    "## Look at more of the documentation\n",
    "\n",
    "\n",
    "### Class Method Summary\n",
    "\n",
    "    .xml_in(string = nil, options = nil) ⇒ Object\n",
    "    This is the functional version of the instance method xml_in.\n",
    "    \n",
    "    \n",
    "    .xml_out(hash, options = nil) ⇒ Object\n",
    "    This is the functional version of the instance method xml_out.\n",
    "\n",
    "### Instance Method Summary\n",
    "\n",
    "    #initialize(defaults = nil) ⇒ XmlSimple constructor\n",
    "    Creates and initializes a new XmlSimple object.\n",
    "    \n",
    "    \n",
    "    #xml_in(string = nil, options = nil) ⇒ Object\n",
    "    Converts an XML document in the same way as the Perl module XML::Simple.\n",
    "    \n",
    "    \n",
    "    #xml_out(ref, options = nil) ⇒ Object\n",
    "    Converts a data structure into an XML document.\n",
    "\n",
    "\n",
    "The documentation tells you that this object is extremely simple - basically, it can do two things:  read XML in, and write XML out.   Interestingly, it also tells you that the object has both Class methods, and Instance methods, and that these methods (xml_in and xml_out) are identical.  \n",
    "\n",
    "That means that this are the same:\n",
    "\n"
   ]
  },
  {
   "cell_type": "code",
   "execution_count": 2,
   "metadata": {},
   "outputs": [
    {
     "name": "stdout",
     "output_type": "stream",
     "text": [
      "hello1\n",
      "hello2\n"
     ]
    }
   ],
   "source": [
    "require 'xmlsimple'\n",
    "\n",
    "simple = XmlSimple.new  # create an instance of XmlSimple\n",
    "data1 = simple.xml_in(\"<xml>hello1</xml>\")  # call the instance xml_in method\n",
    "data2 = XmlSimple.xml_in(\"<xml>hello2</xml>\")  # call the class xml_in method\n",
    "\n",
    "puts data1\n",
    "puts data2"
   ]
  },
  {
   "cell_type": "markdown",
   "metadata": {},
   "source": [
    "\n",
    "\n",
    "# Let's get some interesting XML data\n",
    "\n",
    "\n",
    "surf to:  http://rest.ensembl.org  (https://academic.oup.com/bioinformatics/article/31/1/143/2366240)\n",
    "\n",
    "This is another API into the EnsEMBL database.  Like DB Fetch, it provides predictably structured URLs for access to the data in EnsEMBL (these ones are somewhat \"cleaner\" than DB Fetch, but DB Fetch can access things that this API cannot)\n",
    "\n",
    "Scroll down to the \"Ontologies and Taxonomy\" section.  \n",
    "\n",
    "Click on \"taxonomy/id/:id\"\n",
    "\n",
    "The documentation tells you that this will retrieve the taxonomy information for a given species.  Their examples are human (taxon:9606).  Arabidopsis is taxon:3701.\n",
    "\n",
    "We want to know the names of all Arabodiopsis species.  We will retrieve the taxon information for Arabidopsis, and using our new XmlSimple package, we will parse the data in xml format:\n",
    "\n",
    "http://rest.ensembl.org/taxonomy/id/3701?content-type=text/xml\n",
    "\n",
    "\n",
    "Open this link in a new tab so you can see the structure of the document.  \n",
    "**NOTE:  The EnsEMBL XML is incorrectly formatted right now, so your browser will reject it!  You must press CTRL-U to see it!    ...sorry.... not my fault...**\n",
    "\n"
   ]
  },
  {
   "cell_type": "code",
   "execution_count": 3,
   "metadata": {},
   "outputs": [
    {
     "name": "stdout",
     "output_type": "stream",
     "text": [
      "Arabidopsis thaliana x Arabidopsis arenosa\n",
      "Arabidopsis thaliana x Arabidopsis lyrata\n",
      "Arabidopsis sp. hda9-2\n",
      "Arabidopsis petrogena\n",
      "Arabidopsis arenosa x Arabidopsis thaliana\n",
      "Arabidopsis thaliana x Arabidopsis halleri subsp. gemmifera\n",
      "Arabidopsis pedemontana\n",
      "Arabidopsis halleri\n",
      "Arabidopsis cebennensis\n",
      "Arabidopsis thaliana x Arabidopsis halleri\n",
      "Arabidopsis sp. NH-2014a\n",
      "Arabidopsis arenicola\n",
      "Arabidopsis lyrata\n",
      "Arabidopsis thaliana\n",
      "Arabidopsis sp.\n",
      "Arabidopsis croatica\n",
      "Arabidopsis neglecta\n",
      "Arabidopsis arenosa\n",
      "Arabidopsis lyrata x Arabidopsis halleri\n",
      "Arabidopsis suecica\n",
      "Arabidopsis kamchatica\n",
      "(Arabidopsis thaliana x Arabidopsis arenosa) x Arabidopsis suecica\n",
      "Arabidopsis umezawana\n"
     ]
    },
    {
     "data": {
      "text/plain": [
       "[{\"name\"=>\"Arabidopsis thaliana x Arabidopsis arenosa\", \"id\"=>\"1240361\", \"leaf\"=>\"1\", \"scientific_name\"=>\"Arabidopsis thaliana x Arabidopsis arenosa\", \"tags\"=>[{\"name\"=>[\"Arabidopsis thaliana x Arabidopsis arenosa\"], \"scientific_name\"=>[\"Arabidopsis thaliana x Arabidopsis arenosa\"]}]}, {\"name\"=>\"Arabidopsis thaliana x Arabidopsis lyrata\", \"id\"=>\"869750\", \"leaf\"=>\"1\", \"scientific_name\"=>\"Arabidopsis thaliana x Arabidopsis lyrata\", \"tags\"=>[{\"name\"=>[\"Arabidopsis thaliana x Arabidopsis lyrata\"], \"scientific_name\"=>[\"Arabidopsis thaliana x Arabidopsis lyrata\"]}]}, {\"name\"=>\"Arabidopsis sp. hda9-2\", \"id\"=>\"1746102\", \"leaf\"=>\"1\", \"scientific_name\"=>\"Arabidopsis sp. hda9-2\", \"tags\"=>[{\"name\"=>[\"Arabidopsis sp. hda9-2\"], \"scientific_name\"=>[\"Arabidopsis sp. hda9-2\"]}]}, {\"name\"=>\"Arabidopsis petrogena\", \"id\"=>\"302551\", \"leaf\"=>\"0\", \"scientific_name\"=>\"Arabidopsis petrogena\", \"tags\"=>[{\"name\"=>[\"Arabidopsis petrogena\"], \"authority\"=>[\"Arabidopsis petrogena (A.Kern.) V.I.Dorof.\", \"Cardaminopsis petrogena (A.Kern.) Mesicek\"], \"scientific_name\"=>[\"Arabidopsis petrogena\"], \"synonym\"=>[\"Cardaminopsis petrogena\"]}]}, {\"name\"=>\"Arabidopsis arenosa x Arabidopsis thaliana\", \"id\"=>\"378006\", \"leaf\"=>\"1\", \"scientific_name\"=>\"Arabidopsis arenosa x Arabidopsis thaliana\", \"tags\"=>[{\"name\"=>[\"Arabidopsis arenosa x Arabidopsis thaliana\"], \"scientific_name\"=>[\"Arabidopsis arenosa x Arabidopsis thaliana\"]}]}, {\"name\"=>\"Arabidopsis thaliana x Arabidopsis halleri subsp. gemmifera\", \"id\"=>\"869751\", \"leaf\"=>\"1\", \"scientific_name\"=>\"Arabidopsis thaliana x Arabidopsis halleri subsp. gemmifera\", \"tags\"=>[{\"name\"=>[\"Arabidopsis thaliana x Arabidopsis halleri subsp. gemmifera\"], \"scientific_name\"=>[\"Arabidopsis thaliana x Arabidopsis halleri subsp. gemmifera\"]}]}, {\"name\"=>\"Arabidopsis pedemontana\", \"id\"=>\"412662\", \"leaf\"=>\"1\", \"scientific_name\"=>\"Arabidopsis pedemontana\", \"tags\"=>[{\"name\"=>[\"Arabidopsis pedemontana\"], \"authority\"=>[\"Arabidopsis pedemontana (Boiss.) O'Kane & Al-Shehbaz\"], \"scientific_name\"=>[\"Arabidopsis pedemontana\"]}]}, {\"name\"=>\"Arabidopsis halleri\", \"id\"=>\"81970\", \"leaf\"=>\"0\", \"scientific_name\"=>\"Arabidopsis halleri\", \"tags\"=>[{\"name\"=>[\"Arabidopsis halleri\"], \"authority\"=>[\"Arabidopsis halleri (L.) O'Kane & Al-Shehbaz\", \"Arabis halleri L.\", \"Cardaminopsis halleri (L.) Hayek\"], \"scientific_name\"=>[\"Arabidopsis halleri\"], \"synonym\"=>[\"Arabis halleri\", \"Cardaminopsis halleri\"]}]}, {\"name\"=>\"Arabidopsis cebennensis\", \"id\"=>\"97979\", \"leaf\"=>\"1\", \"scientific_name\"=>\"Arabidopsis cebennensis\", \"tags\"=>[{\"name\"=>[\"Arabidopsis cebennensis\"], \"authority\"=>[\"Arabidopsis cebennensis (DC.) O'Kane & Al-Shehbaz\"], \"scientific_name\"=>[\"Arabidopsis cebennensis\"]}]}, {\"name\"=>\"Arabidopsis thaliana x Arabidopsis halleri\", \"id\"=>\"1837063\", \"leaf\"=>\"1\", \"scientific_name\"=>\"Arabidopsis thaliana x Arabidopsis halleri\", \"tags\"=>[{\"name\"=>[\"Arabidopsis thaliana x Arabidopsis halleri\"], \"scientific_name\"=>[\"Arabidopsis thaliana x Arabidopsis halleri\"]}]}, {\"name\"=>\"Arabidopsis sp. NH-2014a\", \"id\"=>\"1547873\", \"leaf\"=>\"1\", \"scientific_name\"=>\"Arabidopsis sp. NH-2014a\", \"tags\"=>[{\"name\"=>[\"Arabidopsis sp. NH-2014a\"], \"scientific_name\"=>[\"Arabidopsis sp. NH-2014a\"]}]}, {\"name\"=>\"Arabidopsis arenicola\", \"id\"=>\"347883\", \"leaf\"=>\"0\", \"scientific_name\"=>\"Arabidopsis arenicola\", \"tags\"=>[{\"name\"=>[\"Arabidopsis arenicola\"], \"authority\"=>[\"Arabidopsis arenicola (Richardson ex Hook.) Al-Shehbaz et al.\", \"Arabis arenicola (Richardson) Gelert\"], \"scientific_name\"=>[\"Arabidopsis arenicola\"], \"synonym\"=>[\"Arabis arenicola\"]}]}, {\"name\"=>\"Arabidopsis lyrata\", \"id\"=>\"59689\", \"leaf\"=>\"0\", \"scientific_name\"=>\"Arabidopsis lyrata\", \"tags\"=>[{\"name\"=>[\"Arabidopsis lyrata\"], \"authority\"=>[\"Arabidopsis lyrata (L.) O'Kane & Al-Shehbaz\"], \"common_name\"=>[\"lyrate rockcress\"], \"merged_taxon_id\"=>[\"63679\"], \"scientific_name\"=>[\"Arabidopsis lyrata\"]}]}, {\"name\"=>\"Arabidopsis thaliana\", \"id\"=>\"3702\", \"leaf\"=>\"1\", \"scientific_name\"=>\"Arabidopsis thaliana\", \"tags\"=>[{\"name\"=>[\"Arabidopsis thaliana\"], \"authority\"=>[\"Arabidopsis thaliana (L.) Heynh.\"], \"common_name\"=>[\"mouse-ear cress\", \"thale-cress\"], \"genbank_common_name\"=>[\"thale cress\"], \"scientific_name\"=>[\"Arabidopsis thaliana\"]}]}, {\"name\"=>\"Arabidopsis sp.\", \"id\"=>\"29726\", \"leaf\"=>\"1\", \"scientific_name\"=>\"Arabidopsis sp.\", \"tags\"=>[{\"name\"=>[\"Arabidopsis sp.\"], \"scientific_name\"=>[\"Arabidopsis sp.\"]}]}, {\"name\"=>\"Arabidopsis croatica\", \"id\"=>\"97980\", \"leaf\"=>\"1\", \"scientific_name\"=>\"Arabidopsis croatica\", \"tags\"=>[{\"name\"=>[\"Arabidopsis croatica\"], \"authority\"=>[\"Arabidopsis croatica (Schott) O'Kane & Al-Shehbaz\", \"Cardaminopsis croatica (Schott) Jav.\"], \"scientific_name\"=>[\"Arabidopsis croatica\"], \"synonym\"=>[\"Cardaminopsis croatica\"]}]}, {\"name\"=>\"Arabidopsis neglecta\", \"id\"=>\"45251\", \"leaf\"=>\"0\", \"scientific_name\"=>\"Arabidopsis neglecta\", \"tags\"=>[{\"name\"=>[\"Arabidopsis neglecta\"], \"authority\"=>[\"Arabidopsis neglecta (Schult.) O'Kane & Al-Shehbaz\", \"Arabis neglecta Schult.\", \"Cardaminopsis neglecta (Schult.) Hayek\"], \"scientific_name\"=>[\"Arabidopsis neglecta\"], \"synonym\"=>[\"Arabis neglecta\", \"Cardaminopsis neglecta\"]}]}, {\"name\"=>\"Arabidopsis arenosa\", \"id\"=>\"38785\", \"leaf\"=>\"0\", \"scientific_name\"=>\"Arabidopsis arenosa\", \"tags\"=>[{\"name\"=>[\"Arabidopsis arenosa\"], \"authority\"=>[\"Arabidopsis arenosa (L.) Lawalree\", \"Arabis arenosa (L.) Scop.\", \"Cardaminopsis arenosa (L.) Hayek.\"], \"scientific_name\"=>[\"Arabidopsis arenosa\"], \"synonym\"=>[\"Arabis arenosa\", \"Cardaminopsis arenosa\"]}]}, {\"name\"=>\"Arabidopsis lyrata x Arabidopsis halleri\", \"id\"=>\"2486701\", \"leaf\"=>\"1\", \"scientific_name\"=>\"Arabidopsis lyrata x Arabidopsis halleri\", \"tags\"=>[{\"name\"=>[\"Arabidopsis lyrata x Arabidopsis halleri\"], \"scientific_name\"=>[\"Arabidopsis lyrata x Arabidopsis halleri\"]}]}, {\"name\"=>\"Arabidopsis suecica\", \"id\"=>\"45249\", \"leaf\"=>\"1\", \"scientific_name\"=>\"Arabidopsis suecica\", \"tags\"=>[{\"name\"=>[\"Arabidopsis suecica\"], \"authority\"=>[\"Arabidopsis suecica (Fries) Norrl.\", \"Arabis suecica Fries.\", \"Cardaminopsis suecica (Fries) Hiitonen\", \"Hylandra suecica A.Love\"], \"scientific_name\"=>[\"Arabidopsis suecica\"], \"synonym\"=>[\"Arabis suecica\", \"Cardaminopsis suecica\", \"Hylandra suecica\"]}]}, {\"name\"=>\"Arabidopsis kamchatica\", \"id\"=>\"59690\", \"leaf\"=>\"0\", \"scientific_name\"=>\"Arabidopsis kamchatica\", \"tags\"=>[{\"name\"=>[\"Arabidopsis kamchatica\"], \"authority\"=>[\"Arabidopsis kamchatica (Fisch. ex DC.) K.Shimizu & Kudoh\", \"Arabidopsis lyrata subsp. kamchatica (Fisch. ex DC.) O'Kane & Al-Shehbaz\", \"Arabidopsis morrisonensis Hayata\", \"Arabis kamchatica (Fisch. ex DC.) Ledeb.\", \"Arabis lyrata var. kamchatica Fisch. ex DC.\", \"Cardaminopsis kamchatica (Fisch. ex DC.) O.E.Schulz\"], \"merged_taxon_id\"=>[\"675860\"], \"scientific_name\"=>[\"Arabidopsis kamchatica\"], \"synonym\"=>[\"Arabidopsis kamtschatica\", \"Arabidopsis lyrata subsp. kamchatica\", \"Arabidopsis morrisonensis\", \"Arabis kamchatica\", \"Arabis lyrata var. kamchatica\", \"Cardaminopsis kamchatica\"]}]}, {\"name\"=>\"(Arabidopsis thaliana x Arabidopsis arenosa) x Arabidopsis suecica\", \"id\"=>\"1328956\", \"leaf\"=>\"1\", \"scientific_name\"=>\"(Arabidopsis thaliana x Arabidopsis arenosa) x Arabidopsis suecica\", \"tags\"=>[{\"name\"=>[\"(Arabidopsis thaliana x Arabidopsis arenosa) x Arabidopsis suecica\"], \"scientific_name\"=>[\"(Arabidopsis thaliana x Arabidopsis arenosa) x Arabidopsis suecica\"]}]}, {\"name\"=>\"Arabidopsis umezawana\", \"id\"=>\"1547872\", \"leaf\"=>\"1\", \"scientific_name\"=>\"Arabidopsis umezawana\", \"tags\"=>[{\"name\"=>[\"Arabidopsis umezawana\"], \"authority\"=>[\"Arabidopsis umezawana Kadota\"], \"scientific_name\"=>[\"Arabidopsis umezawana\"]}]}]"
      ]
     },
     "execution_count": 3,
     "metadata": {},
     "output_type": "execute_result"
    }
   ],
   "source": [
    "require 'net/http'   # this is how you access the Web\n",
    "require 'xmlsimple'\n",
    "#require 'pp'\n",
    "\n",
    "address = URI('http://rest.ensembl.org/taxonomy/id/3701?content-type=text/xml')  # create a \"URI\" object\n",
    "response = Net::HTTP.get_response(address)  # use the Net::HTTP object \"get_response\" method to call that address\n",
    "#puts response.body\n",
    "\n",
    "# The code below fixes a problem with the EnsEMBL REST output XML\n",
    "# EnsEMBL fixed this problem themselves, but have not published the change yet\n",
    "# you can try to understand what it was doing!  :-)\n",
    "# http://ruby-doc.org/core-1.9.3/String.html#method-i-gsub \n",
    "cleaned_body = response.body.gsub(/<(\\/?)(\\w+)\\s(\\w+)>/, '<\\1\\2\\3>')\n",
    "cleaned_body.gsub!(/<(\\/?)(\\w+)\\s(\\w+)\\s(\\w+)>/, '<\\1\\2\\3\\4>')\n",
    "\n",
    "data = XmlSimple.xml_in(cleaned_body)   # create the XML object (hashes and lists)\n",
    "for child in data[\"data\"][0][\"children\"].each \n",
    "  puts child[\"name\"]\n",
    "end"
   ]
  },
  {
   "cell_type": "markdown",
   "metadata": {
    "collapsed": true
   },
   "source": [
    "## TASK 5A: Prove that you understand Gems and Documentation by using a different Web resource\n",
    "\n",
    "Use the Gene Ontology again.  Find the Ruby Gem that handles Gene Ontology (GO) files.\n",
    "\n",
    "Reading the documentation, you see that it reads GO from a file, so you will need to create that data file.  Jupyter has specific locations for data files (see the documentation here:  http://jupyter.readthedocs.io/en/latest/projects/jupyter-directories.html)\n",
    "\n",
    "In your code, retrieve the GO Slim Plant Ontology:\n",
    "http://www.geneontology.org/ontology/subsets/goslim_plant.obo\n",
    "and write it to a file (this is how you do that:)\n",
    "\n",
    "<code>\n",
    "    File.open('geneontology.obo', 'w') do |myfile|  # w makes it writable\n",
    "      myfile.puts geneontologycontent  \n",
    "    end  \n",
    "</code>\n",
    "\n",
    "now follow the documentation for the GeneOntology object and try to create a ruby script that outputs the name and definition for GO:0005634"
   ]
  },
  {
   "cell_type": "code",
   "execution_count": 5,
   "metadata": {},
   "outputs": [
    {
     "data": {
      "text/plain": [
       "[\"NIF_Subcellular:sao1702920020\", \"Wikipedia:Cell_nucleus\"]"
      ]
     },
     "execution_count": 5,
     "metadata": {},
     "output_type": "execute_result"
    }
   ],
   "source": [
    "require 'gene_ontology'\n",
    "go = GeneOntology.from_file(\"geneontology.obo\")\n",
    "term = go.id_to_term[\"GO:0005634\"]\n",
    "term.name\n",
    "term.xref"
   ]
  },
  {
   "cell_type": "markdown",
   "metadata": {},
   "source": [
    "# Learn something new in Ruby --> Blocks\n",
    "\n",
    "Look at the documentation for the \"each\" method of the GeneOntology Term object:\n",
    "\n",
    "--------------\n",
    "\n",
    "### Instance Method Details\n",
    "\n",
    "__#each(&block) ⇒ Object__\n",
    "\n",
    "starting with that term, traverses upwards in the tree so if you call term.each it will go up the Gene Ontology tree until it gets to \"root\" (depending on the tree, this will be \"biological proces\", \"molecular function\", or \"cellular component\").... but what does it do with those terms???\n",
    "\n",
    "This is what a \"&block\" is.  It gives you the chance to tell the Object what __you want__ it to do!\n",
    "\n",
    "&block is, therefore, a piece of code that you provide to the method, where the object sends information into your block of code.\n",
    "\n",
    "For example:\n",
    "\n"
   ]
  },
  {
   "cell_type": "code",
   "execution_count": 7,
   "metadata": {},
   "outputs": [
    {
     "name": "stdout",
     "output_type": "stream",
     "text": [
      "The term nucleic acid binding is at level 2 of the ontology\n",
      "The term binding is at level 1 of the ontology\n",
      "The term molecular_function is at level 0 of the ontology\n",
      "\n",
      "\n",
      "The term nucleic acid binding is at level 2 of the ontology\n",
      "The term binding is at level 1 of the ontology\n",
      "The term molecular_function is at level 0 of the ontology\n"
     ]
    },
    {
     "data": {
      "text/plain": [
       "[<[1]GO:0005488: binding is_a.size=1>]"
      ]
     },
     "execution_count": 7,
     "metadata": {},
     "output_type": "execute_result"
    }
   ],
   "source": [
    "require 'net/http'   # this is how you access the Web\n",
    "require 'gene_ontology'  # the gem for gene ontology obo files\n",
    "\n",
    "go = GeneOntology.new.from_file(\"geneontology.obo\")\n",
    "term = go.id_to_term['GO:0003676']\n",
    "\n",
    "# There are two ways to pass a block of code.  You can do it all on one line:\n",
    "term.each {|thisterm| puts \"The term #{thisterm.name} is at level #{thisterm.level} of the ontology\"}\n",
    "puts \"\"; puts\"\"\n",
    "\n",
    "# or you can do it on multiple lines as follows\n",
    "term.each do |thisterm| \n",
    "  puts \"The term #{thisterm.name} is at level #{thisterm.level} of the ontology\"\n",
    "end"
   ]
  },
  {
   "cell_type": "markdown",
   "metadata": {},
   "source": [
    "## note that this is an example of \"method overriding\"\n",
    "\n",
    "You already know what \".each\" does on list objects...\n",
    "\n"
   ]
  },
  {
   "cell_type": "code",
   "execution_count": 8,
   "metadata": {},
   "outputs": [
    {
     "name": "stdout",
     "output_type": "stream",
     "text": [
      "1 plus 1 equals 2\n",
      "2 plus 1 equals 3\n",
      "3 plus 1 equals 4\n",
      "4 plus 1 equals 5\n"
     ]
    },
    {
     "data": {
      "text/plain": [
       "[1, 2, 3, 4]"
      ]
     },
     "execution_count": 8,
     "metadata": {},
     "output_type": "execute_result"
    }
   ],
   "source": [
    "[1,2,3,4].each do |number|\n",
    "  puts \"#{number} plus 1 equals #{number + 1}\"\n",
    "end"
   ]
  },
  {
   "cell_type": "markdown",
   "metadata": {},
   "source": [
    "The author of the GeneOntology object wanted to provide exactly the same functionality, but could not use the native .each method of the object, because.... (well... honestly, because the object is not a list!)  So the author implemented their own \".each\" method, which takes a block, and then traverses along the ontology tree.  You can see the code in \n",
    "\n",
    "    /home/osboxes/.rvm/gems/ruby-2.4.2/gems/gene_ontology-0.0.1/lib/gene_ontology.rb\n",
    "\n",
    "<code>\n",
    "    def each(&block)\n",
    "      block.call(self)\n",
    "      is_a.each do |term|\n",
    "        term.each(&block)\n",
    "      end\n",
    "    end\n",
    "\n",
    "</code>\n",
    "\n",
    "So now their code functions exactly like .each does on a list, but the list is generated by calling other methods (is_a) that traverse up the ontology tree.\n",
    "\n",
    "That's quite cool!"
   ]
  },
  {
   "cell_type": "markdown",
   "metadata": {},
   "source": [
    "# Prove you understand\n",
    "\n",
    "Create code that will search for the term \"receptor activity\", then it reports the GO number, GO Term, and the definition (def) for each of the parent terms."
   ]
  },
  {
   "cell_type": "markdown",
   "metadata": {},
   "source": [
    "# Ruby Documentation\n",
    "\n",
    "The documentation provided on the rubygems website is contained inside of the Gems.  The authors provide documentation in either RDoc format, or YARD format.  We are going to look at YARD.\n",
    "\n",
    "Good documentation is __critical__ if you write code for others to use!  \n",
    "\n",
    "__NOTE:  I will now start including the quality of documentation in my evaluation of your assignments!!!__\n",
    "\n",
    "\n",
    "YARD is explained on their website:  https://yardoc.org/guides/index.html\n",
    "\n",
    "We will begin with a simple Patient.rb class:\n",
    "\n"
   ]
  },
  {
   "cell_type": "code",
   "execution_count": 9,
   "metadata": {},
   "outputs": [
    {
     "data": {
      "text/plain": [
       ":initialize"
      ]
     },
     "execution_count": 9,
     "metadata": {},
     "output_type": "execute_result"
    }
   ],
   "source": [
    "class Patient\n",
    "\n",
    "  attr_accessor :name\n",
    "  attr_accessor :age \n",
    "  \n",
    "  def initialize (thisname = \"Some Person\", thisage = \"10\") \n",
    "      @name = thisname \n",
    "      @age = 10\n",
    "  end\n",
    "  \n",
    "end"
   ]
  },
  {
   "cell_type": "markdown",
   "metadata": {},
   "source": [
    "This class has three methods:  \"initialize\", (called with Patient.new()),  \"name\" and \"age\"\n",
    "\n",
    "We should document the behavior of these.   This is how it looks when we document the object using YARD tags\n"
   ]
  },
  {
   "cell_type": "code",
   "execution_count": 10,
   "metadata": {},
   "outputs": [
    {
     "data": {
      "text/plain": [
       ":initialize"
      ]
     },
     "execution_count": 10,
     "metadata": {},
     "output_type": "execute_result"
    }
   ],
   "source": [
    "# == Patient\n",
    "#\n",
    "# This is a simple representation of a patient\n",
    "# with name and age attributes\n",
    "#\n",
    "# == Summary\n",
    "# \n",
    "# This can be used to represent aspects of sick people\n",
    "#\n",
    "\n",
    "class Patient\n",
    "\n",
    "  # Get/Set the patient's name\n",
    "  # @!attribute [rw]\n",
    "  # @return [String] The name\n",
    "  attr_accessor :name\n",
    "\n",
    "  # Get/Set the patient's age\n",
    "  # @!attribute [rw]\n",
    "  # @return [Integer] The age\n",
    "  attr_accessor :age \n",
    "  \n",
    "  # Create a new instance of Patient\n",
    "\n",
    "  # @param name [String] the name of the patient as a String\n",
    "  # @param age [Integer] the age of the patient as a Integer\n",
    "  # @return [Patient] an instance of Patient\n",
    "  def initialize (name = \"Some Person\", age = 10) \n",
    "      @name = name \n",
    "      @age = age\n",
    "  end\n",
    "end"
   ]
  },
  {
   "cell_type": "markdown",
   "metadata": {},
   "source": [
    "# Generating YARD documentation\n",
    "\n",
    "open a terminal window.  Browse to /home/osboxes/UPM_BioinfoCourse/Lectures\n",
    "\n",
    "Edit the Patient.rb file to include the YARD documentation above, then save it.\n",
    "\n",
    "Now, in your terminal type:\n",
    "\n",
    "    $  yard doc Patient.rb\n",
    "    \n",
    "You get a short report about how many things were documented.  All of the documentation is in a new folder called \"doc\"\n",
    "\n",
    "Staying at the command prompt, type:\n",
    "\n",
    "    $ firefox ./doc/index.html\n",
    "    \n",
    "There is your documentation!  \n",
    "\n",
    "\n",
    "\n",
    "# try it yourself\n",
    "\n",
    "Explore the documentation for yourself.  look at the http://www.rubydoc.info/gems/yard/file/docs/GettingStarted.md  website and try some other tags and markup.  Also look-up RDoc, since the yard documentation tool can understand RDoc instructions also.\n",
    "    "
   ]
  },
  {
   "cell_type": "markdown",
   "metadata": {},
   "source": [
    "# Good Code \"Hygiene\"\n",
    "\n",
    "When you create a Class that you expect others to use, you should be polite and put your Classes into their own \"Namespace\".\n",
    "\n",
    "For example, if you have a class \"Patient\", you could reasonably assume that someone else, somewhere in the world, has also defined a class called \"Patient\".  If one of your users has downloaded both your code, and that other person's code, they will now have two different Class definitions for \"Patient\", and \n",
    "\n",
    "<code>require 'Patient\"</code>\n",
    "\n",
    "will now be an ambiguous statement.\n",
    "\n",
    "What to do?   Simply put your objects into a folder that has a name that is unlikely to be used by anyone else - for example, your initials, or the project name.  \n",
    "\n",
    "Look in the <code>UPM_BioinfoCourse/Lectures/</code> folder.  You will see there is a folder called \"Mdw_objects\".  Inside of that folder I have a file (patient.rb) containing a Class definition (Patient).\n",
    "\n",
    "The content of that file are slightly different - it uses a \"Module\", which is a way to group classes into a namespace.  The code is:\n"
   ]
  },
  {
   "cell_type": "code",
   "execution_count": 11,
   "metadata": {},
   "outputs": [
    {
     "data": {
      "text/plain": [
       ":initialize"
      ]
     },
     "execution_count": 11,
     "metadata": {},
     "output_type": "execute_result"
    }
   ],
   "source": [
    "module Mdw_objects\n",
    "        class Patient  # this could also be Mdw_objects::Patient, if you want to be extremely clear!\n",
    "          attr_accessor :name         \n",
    "          def initialize (thisname = \"Some Person\")\n",
    "                @name = thisname\n",
    "           end\n",
    "        end\n",
    "end"
   ]
  },
  {
   "cell_type": "markdown",
   "metadata": {},
   "source": [
    "The way you use this object is as follows:"
   ]
  },
  {
   "cell_type": "code",
   "execution_count": 12,
   "metadata": {},
   "outputs": [
    {
     "data": {
      "text/plain": [
       "#<Mdw_objects::Patient:0x0000000002a7b460 @name=\"Some Person\">"
      ]
     },
     "execution_count": 12,
     "metadata": {},
     "output_type": "execute_result"
    }
   ],
   "source": [
    "require './mdw_objects/patient'  # my class definition is  in a different namespace, wont crash into someone elses\n",
    "\n",
    "p = Mdw_objects::Patient.new()"
   ]
  },
  {
   "cell_type": "markdown",
   "metadata": {},
   "source": [
    "## NOTE:  the naming conventions for Ruby are a bit surprising...\n",
    "\n",
    "see:  http://guides.rubygems.org/name-your-gem/\n",
    "\n",
    "\n",
    "    GEM NAME\t           REQUIRE STATEMENT               MAIN CLASS OR MODULE\n",
    "    ruby_parser\t           require 'ruby_parser'\t       RubyParser\n",
    "    rdoc-data\t           require 'rdoc/data'\t           RDoc::Data\n",
    "    net-http-persistent\t   require 'net/http/persistent'   Net::HTTP::Persistent\n",
    "    net-http-digest_auth   require 'net/http/digest_auth'  Net::HTTP::DigestAuth"
   ]
  },
  {
   "cell_type": "markdown",
   "metadata": {},
   "source": [
    "## That was easy!\n",
    "\n",
    "The next thing you will want to do is help your users install your code.  You want to create your own Ruby Gem.\n",
    "\n",
    "Go to your terminal window, and type:\n",
    "\n",
    "<code>gem install bundler</code>\n",
    "\n",
    "Bundler is a Ruby Gem that builds Ruby Gems.  Our \"Patient\" class (Mdw_objects::Patient) should follow the naming conventions shown above.  i.e., the name of the Gem should be:  mdw_objects-patient\n",
    "\n",
    "To begin creating your Gem go to the command line and type:\n",
    "\n",
    "<code>bundle gem mdw_objects-patient</code>\n",
    "\n",
    " *  It will ask you if you want to generate \"test files\" - for the moment, say \"none\"\n",
    " * Answer \"y\" to the question about licenses (you can change your mind later!)\n",
    " * Answer \"n\" to the code-of-conduct question (you can change your mind later!)\n",
    " \n",
    " It will now create mdw_objects-patient folder for you.  Now in your terminal, the commands:\n",
    " \n",
    " <code>$  cd mdw_objects-patient</code>\n",
    "\n",
    " <code>mdw_objects-patients$  ls</code>\n",
    " \n",
    " <code>bin  Gemfile  lib  LICENSE.txt  mdw_objects-patient.gemspec  Rakefile  README.md</code>"
   ]
  },
  {
   "cell_type": "markdown",
   "metadata": {},
   "source": [
    "## now look at the metadata file\n",
    "\n",
    "<code>\n",
    "**mdw_objects-patient$ cat mdw_objects-patient.gemspec **\n",
    "\n",
    "\n",
    "lib = File.expand_path(\"../lib\", _\\_FILE\\_\\_)\n",
    "$LOAD_PATH.unshift(lib) unless $LOAD_PATH.include?(lib)\n",
    "require \"mdw_objects/patient/version\"\n",
    "\n",
    "Gem::Specification.new do |spec|\n",
    "  spec.name          = \"mdw_objects-patient\"\n",
    "**  spec.version       = MdwObjects::Patient::VERSION **\n",
    "**  spec.authors       = [\"Mark Wilkinson\"]**\n",
    "**  spec.email         = [\"markw@illuminae.com\"]**\n",
    "\n",
    "**  spec.summary       = %q{TODO: Write a short summary, because RubyGems requires one.} **\n",
    "**  spec.description   = %q{TODO: Write a longer description or delete this line.} **\n",
    "**  spec.homepage      = \"TODO: Put your gem's website or public repo (your GitHub!) URL here.\" **\n",
    "  spec.license       = \"MIT\"\n",
    "\n",
    "  \n",
    "  if spec.respond_to?(:metadata)\n",
    "    spec.metadata[\"allowed_push_host\"] = \"TODO: Set to 'http://mygemserver.com'\"\n",
    "  else\n",
    "    raise \"RubyGems 2.0 or newer is required to protect against \" \\\n",
    "      \"public gem pushes.\"\n",
    "  end\n",
    "\n",
    "  spec.files         = `git ls-files -z`.split(\"\\x0\").reject do |f|\n",
    "    f.match(%r{^(test|spec|features)/})\n",
    "  end\n",
    "  spec.bindir        = \"exe\"\n",
    "  spec.executables   = spec.files.grep(%r{^exe/}) { |f| File.basename(f) }\n",
    "  spec.require_paths = [\"lib\"]\n",
    "\n",
    "  spec.add_development_dependency \"bundler\", \"~> 1.16\"\n",
    "  spec.add_development_dependency \"rake\", \"~> 10.0\"\n",
    "end\n",
    "</pre></code>"
   ]
  },
  {
   "cell_type": "markdown",
   "metadata": {},
   "source": [
    "The GEM Bundler has done some nice things for us!  It has created a \"VERSION\" constant (do you know what a \"constant\" is?)\n",
    "  \n",
    "The constant is available from <code>MdwObjects::Patient::VERSION</code>\n",
    "\n",
    "To see this, go into the \"Lectures/mdw_objects-patient/lib\" folder, then start the Ruby command line:\n",
    "  \n",
    "  <pre>\n",
    "  /mdw_objects-patient/lib$   irb\n",
    "    \n",
    "  <code>2.4.2 :002 > require './mdw_objects/patient/version'</code>\n",
    "  <code> => true </code>\n",
    "  <code>2.4.2 :003 > require './mdw_objects/patient'</code>\n",
    "  ....ignore all of the error messages here\n",
    "  ....\n",
    "  ....\n",
    "  ....\n",
    "  <code>2.4.2 :004 > puts MdwObjects::Patient::VERSION</code>\n",
    "  0.1.0\n",
    "  => nil \n",
    "  2.4.2 :005 > exit\n",
    "  \n",
    "  /mdw_objects-patient/lib$   cat ./mdw_objects/patient/version.rb\n",
    "\n",
    "  module MdwObjects\n",
    "    module Patient\n",
    "      VERSION = \"0.1.0\"   <  \"VERSION\" is defined here.  You will update this every time you make a new Gem\n",
    "    end\n",
    "  end"
   ]
  },
  {
   "cell_type": "markdown",
   "metadata": {},
   "source": [
    "## last step - move your code \n",
    "\n",
    "Notice that Bundler has already created a mdw_objects/patient.rb file for you, but it is almost empty:\n",
    "\n",
    "\n",
    "    require \"mdw_objects/patient/version\"\n",
    "\n",
    "    module MdwObjects\n",
    "       module Patient\n",
    "           #### Your code goes here...\n",
    "       end\n",
    "    end\n",
    "\n",
    "All you need to do is copy your code into that module (or, add the first line   <code>require \"mdw_objects/patient/version\"</code>    to your existing patient.rb module and then replace this file.\n",
    "\n",
    "\n",
    "##  Release your Gem to the world!\n",
    "\n",
    "We will not do this, but the final step is to say:\n",
    "\n",
    "    Lectures/mdw_objects-patient$  gem push\n",
    "    \n",
    "You are then asked to login to RubyGems.  Once you do, your Gem will be deposited so that anyone can install it by typing \n",
    "\n",
    "     \"gem install mdw_objects-patient\"\n"
   ]
  }
 ],
 "metadata": {
  "kernelspec": {
   "display_name": "Ruby 2.6.3",
   "language": "ruby",
   "name": "ruby"
  },
  "language_info": {
   "file_extension": ".rb",
   "mimetype": "application/x-ruby",
   "name": "ruby",
   "version": "2.6.3"
  }
 },
 "nbformat": 4,
 "nbformat_minor": 2
}
